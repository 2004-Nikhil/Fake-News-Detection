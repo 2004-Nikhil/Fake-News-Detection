{
 "cells": [
  {
   "cell_type": "code",
   "execution_count": 1,
   "metadata": {},
   "outputs": [],
   "source": [
    "import pandas as pd\n",
    "import re\n",
    "from nltk.corpus import stopwords\n",
    "stop_words = set(stopwords.words('english'))"
   ]
  },
  {
   "cell_type": "code",
   "execution_count": 2,
   "metadata": {},
   "outputs": [],
   "source": [
    "true=pd.read_csv('datasets/True.csv')\n",
    "fake=pd.read_csv('datasets/Fake.csv')"
   ]
  },
  {
   "cell_type": "code",
   "execution_count": 3,
   "metadata": {},
   "outputs": [],
   "source": [
    "#Add label column\n",
    "true['label']=1\n",
    "fake['label']=0"
   ]
  },
  {
   "cell_type": "code",
   "execution_count": 4,
   "metadata": {},
   "outputs": [],
   "source": [
    "#merge dataframes\n",
    "df=pd.concat([true,fake],axis=0)"
   ]
  },
  {
   "cell_type": "code",
   "execution_count": 5,
   "metadata": {},
   "outputs": [],
   "source": [
    "# shuffle dataframe\n",
    "data=df.sample(frac=1).reset_index(drop=True)"
   ]
  },
  {
   "cell_type": "code",
   "execution_count": 6,
   "metadata": {},
   "outputs": [
    {
     "data": {
      "text/html": [
       "<div>\n",
       "<style scoped>\n",
       "    .dataframe tbody tr th:only-of-type {\n",
       "        vertical-align: middle;\n",
       "    }\n",
       "\n",
       "    .dataframe tbody tr th {\n",
       "        vertical-align: top;\n",
       "    }\n",
       "\n",
       "    .dataframe thead th {\n",
       "        text-align: right;\n",
       "    }\n",
       "</style>\n",
       "<table border=\"1\" class=\"dataframe\">\n",
       "  <thead>\n",
       "    <tr style=\"text-align: right;\">\n",
       "      <th></th>\n",
       "      <th>title</th>\n",
       "      <th>text</th>\n",
       "      <th>subject</th>\n",
       "      <th>date</th>\n",
       "      <th>label</th>\n",
       "    </tr>\n",
       "  </thead>\n",
       "  <tbody>\n",
       "    <tr>\n",
       "      <th>0</th>\n",
       "      <td>This Expert Just Shut Down Every Claim That T...</td>\n",
       "      <td>There should be no doubt that racism is very m...</td>\n",
       "      <td>News</td>\n",
       "      <td>May 29, 2016</td>\n",
       "      <td>0</td>\n",
       "    </tr>\n",
       "    <tr>\n",
       "      <th>1</th>\n",
       "      <td>Aggressive cuts to Obama-era green rules to st...</td>\n",
       "      <td>(Reuters) - U.S. President Donald Trump’s admi...</td>\n",
       "      <td>politicsNews</td>\n",
       "      <td>February 25, 2017</td>\n",
       "      <td>1</td>\n",
       "    </tr>\n",
       "    <tr>\n",
       "      <th>2</th>\n",
       "      <td>Bernie Sanders SKEWERS Trump And Cruz For The...</td>\n",
       "      <td>While the Republican presidential candidates h...</td>\n",
       "      <td>News</td>\n",
       "      <td>March 22, 2016</td>\n",
       "      <td>0</td>\n",
       "    </tr>\n",
       "    <tr>\n",
       "      <th>3</th>\n",
       "      <td>Liberal, conservative lawmakers offer opposing...</td>\n",
       "      <td>WASHINGTON (Reuters) - U.S. senators unveiled ...</td>\n",
       "      <td>politicsNews</td>\n",
       "      <td>September 13, 2017</td>\n",
       "      <td>1</td>\n",
       "    </tr>\n",
       "    <tr>\n",
       "      <th>4</th>\n",
       "      <td>Hungary's opposition Socialists lose PM candid...</td>\n",
       "      <td>BUDAPEST (Reuters) - The Hungarian Socialist P...</td>\n",
       "      <td>worldnews</td>\n",
       "      <td>October 2, 2017</td>\n",
       "      <td>1</td>\n",
       "    </tr>\n",
       "    <tr>\n",
       "      <th>...</th>\n",
       "      <td>...</td>\n",
       "      <td>...</td>\n",
       "      <td>...</td>\n",
       "      <td>...</td>\n",
       "      <td>...</td>\n",
       "    </tr>\n",
       "    <tr>\n",
       "      <th>44893</th>\n",
       "      <td>KID ROCK GOES OFF On Colin Kaepernick, Obamaca...</td>\n",
       "      <td>Kid Rock hasn t officially announced his run f...</td>\n",
       "      <td>left-news</td>\n",
       "      <td>Sep 14, 2017</td>\n",
       "      <td>0</td>\n",
       "    </tr>\n",
       "    <tr>\n",
       "      <th>44894</th>\n",
       "      <td>[VIDEO] OBAMA TELLS HOMETOWN KENYANS: “I’m A P...</td>\n",
       "      <td>We re not sure what s funnier, the fact that h...</td>\n",
       "      <td>left-news</td>\n",
       "      <td>Jul 28, 2015</td>\n",
       "      <td>0</td>\n",
       "    </tr>\n",
       "    <tr>\n",
       "      <th>44895</th>\n",
       "      <td>Trump supporters praise softer tone in address...</td>\n",
       "      <td>CLEARWATER, Fla. (Reuters) - While U.S. Presid...</td>\n",
       "      <td>politicsNews</td>\n",
       "      <td>March 1, 2017</td>\n",
       "      <td>1</td>\n",
       "    </tr>\n",
       "    <tr>\n",
       "      <th>44896</th>\n",
       "      <td>Joint Strike Fighter plans stolen in Australia...</td>\n",
       "      <td>SYDNEY (Reuters) - A hacker stole non-classifi...</td>\n",
       "      <td>worldnews</td>\n",
       "      <td>October 12, 2017</td>\n",
       "      <td>1</td>\n",
       "    </tr>\n",
       "    <tr>\n",
       "      <th>44897</th>\n",
       "      <td>Dramatic Increase In Violence Against BLM Emp...</td>\n",
       "      <td>According to the most recent statistics, attac...</td>\n",
       "      <td>News</td>\n",
       "      <td>June 6, 2016</td>\n",
       "      <td>0</td>\n",
       "    </tr>\n",
       "  </tbody>\n",
       "</table>\n",
       "<p>44898 rows × 5 columns</p>\n",
       "</div>"
      ],
      "text/plain": [
       "                                                   title  \\\n",
       "0       This Expert Just Shut Down Every Claim That T...   \n",
       "1      Aggressive cuts to Obama-era green rules to st...   \n",
       "2       Bernie Sanders SKEWERS Trump And Cruz For The...   \n",
       "3      Liberal, conservative lawmakers offer opposing...   \n",
       "4      Hungary's opposition Socialists lose PM candid...   \n",
       "...                                                  ...   \n",
       "44893  KID ROCK GOES OFF On Colin Kaepernick, Obamaca...   \n",
       "44894  [VIDEO] OBAMA TELLS HOMETOWN KENYANS: “I’m A P...   \n",
       "44895  Trump supporters praise softer tone in address...   \n",
       "44896  Joint Strike Fighter plans stolen in Australia...   \n",
       "44897   Dramatic Increase In Violence Against BLM Emp...   \n",
       "\n",
       "                                                    text       subject  \\\n",
       "0      There should be no doubt that racism is very m...          News   \n",
       "1      (Reuters) - U.S. President Donald Trump’s admi...  politicsNews   \n",
       "2      While the Republican presidential candidates h...          News   \n",
       "3      WASHINGTON (Reuters) - U.S. senators unveiled ...  politicsNews   \n",
       "4      BUDAPEST (Reuters) - The Hungarian Socialist P...     worldnews   \n",
       "...                                                  ...           ...   \n",
       "44893  Kid Rock hasn t officially announced his run f...     left-news   \n",
       "44894  We re not sure what s funnier, the fact that h...     left-news   \n",
       "44895  CLEARWATER, Fla. (Reuters) - While U.S. Presid...  politicsNews   \n",
       "44896  SYDNEY (Reuters) - A hacker stole non-classifi...     worldnews   \n",
       "44897  According to the most recent statistics, attac...          News   \n",
       "\n",
       "                      date  label  \n",
       "0             May 29, 2016      0  \n",
       "1       February 25, 2017       1  \n",
       "2           March 22, 2016      0  \n",
       "3      September 13, 2017       1  \n",
       "4         October 2, 2017       1  \n",
       "...                    ...    ...  \n",
       "44893         Sep 14, 2017      0  \n",
       "44894         Jul 28, 2015      0  \n",
       "44895       March 1, 2017       1  \n",
       "44896    October 12, 2017       1  \n",
       "44897         June 6, 2016      0  \n",
       "\n",
       "[44898 rows x 5 columns]"
      ]
     },
     "execution_count": 6,
     "metadata": {},
     "output_type": "execute_result"
    }
   ],
   "source": [
    "data"
   ]
  },
  {
   "cell_type": "code",
   "execution_count": 7,
   "metadata": {},
   "outputs": [],
   "source": [
    "#merge text with title only if title is not null\n",
    "data['text'] = data['title'].fillna('') + data['text'].fillna('')"
   ]
  },
  {
   "cell_type": "code",
   "execution_count": 8,
   "metadata": {},
   "outputs": [],
   "source": [
    "# remove title, subject and date\n",
    "data.drop(['title','subject','date'],axis=1,inplace=True)"
   ]
  },
  {
   "cell_type": "code",
   "execution_count": 9,
   "metadata": {},
   "outputs": [
    {
     "data": {
      "text/html": [
       "<div>\n",
       "<style scoped>\n",
       "    .dataframe tbody tr th:only-of-type {\n",
       "        vertical-align: middle;\n",
       "    }\n",
       "\n",
       "    .dataframe tbody tr th {\n",
       "        vertical-align: top;\n",
       "    }\n",
       "\n",
       "    .dataframe thead th {\n",
       "        text-align: right;\n",
       "    }\n",
       "</style>\n",
       "<table border=\"1\" class=\"dataframe\">\n",
       "  <thead>\n",
       "    <tr style=\"text-align: right;\">\n",
       "      <th></th>\n",
       "      <th>text</th>\n",
       "      <th>label</th>\n",
       "    </tr>\n",
       "  </thead>\n",
       "  <tbody>\n",
       "    <tr>\n",
       "      <th>0</th>\n",
       "      <td>This Expert Just Shut Down Every Claim That T...</td>\n",
       "      <td>0</td>\n",
       "    </tr>\n",
       "    <tr>\n",
       "      <th>1</th>\n",
       "      <td>Aggressive cuts to Obama-era green rules to st...</td>\n",
       "      <td>1</td>\n",
       "    </tr>\n",
       "    <tr>\n",
       "      <th>2</th>\n",
       "      <td>Bernie Sanders SKEWERS Trump And Cruz For The...</td>\n",
       "      <td>0</td>\n",
       "    </tr>\n",
       "    <tr>\n",
       "      <th>3</th>\n",
       "      <td>Liberal, conservative lawmakers offer opposing...</td>\n",
       "      <td>1</td>\n",
       "    </tr>\n",
       "    <tr>\n",
       "      <th>4</th>\n",
       "      <td>Hungary's opposition Socialists lose PM candid...</td>\n",
       "      <td>1</td>\n",
       "    </tr>\n",
       "    <tr>\n",
       "      <th>...</th>\n",
       "      <td>...</td>\n",
       "      <td>...</td>\n",
       "    </tr>\n",
       "    <tr>\n",
       "      <th>44893</th>\n",
       "      <td>KID ROCK GOES OFF On Colin Kaepernick, Obamaca...</td>\n",
       "      <td>0</td>\n",
       "    </tr>\n",
       "    <tr>\n",
       "      <th>44894</th>\n",
       "      <td>[VIDEO] OBAMA TELLS HOMETOWN KENYANS: “I’m A P...</td>\n",
       "      <td>0</td>\n",
       "    </tr>\n",
       "    <tr>\n",
       "      <th>44895</th>\n",
       "      <td>Trump supporters praise softer tone in address...</td>\n",
       "      <td>1</td>\n",
       "    </tr>\n",
       "    <tr>\n",
       "      <th>44896</th>\n",
       "      <td>Joint Strike Fighter plans stolen in Australia...</td>\n",
       "      <td>1</td>\n",
       "    </tr>\n",
       "    <tr>\n",
       "      <th>44897</th>\n",
       "      <td>Dramatic Increase In Violence Against BLM Emp...</td>\n",
       "      <td>0</td>\n",
       "    </tr>\n",
       "  </tbody>\n",
       "</table>\n",
       "<p>44898 rows × 2 columns</p>\n",
       "</div>"
      ],
      "text/plain": [
       "                                                    text  label\n",
       "0       This Expert Just Shut Down Every Claim That T...      0\n",
       "1      Aggressive cuts to Obama-era green rules to st...      1\n",
       "2       Bernie Sanders SKEWERS Trump And Cruz For The...      0\n",
       "3      Liberal, conservative lawmakers offer opposing...      1\n",
       "4      Hungary's opposition Socialists lose PM candid...      1\n",
       "...                                                  ...    ...\n",
       "44893  KID ROCK GOES OFF On Colin Kaepernick, Obamaca...      0\n",
       "44894  [VIDEO] OBAMA TELLS HOMETOWN KENYANS: “I’m A P...      0\n",
       "44895  Trump supporters praise softer tone in address...      1\n",
       "44896  Joint Strike Fighter plans stolen in Australia...      1\n",
       "44897   Dramatic Increase In Violence Against BLM Emp...      0\n",
       "\n",
       "[44898 rows x 2 columns]"
      ]
     },
     "execution_count": 9,
     "metadata": {},
     "output_type": "execute_result"
    }
   ],
   "source": [
    "data"
   ]
  },
  {
   "cell_type": "code",
   "execution_count": 10,
   "metadata": {},
   "outputs": [],
   "source": [
    "def preprocess_text(text):\n",
    "    # remove the text with garbage values like emojis\n",
    "    text = text.encode('ascii', 'ignore').decode('ascii')\n",
    "\n",
    "    # remove the text with html tags\n",
    "    text = re.sub(r'<.*?>', '', text)\n",
    "\n",
    "    # remove the text with url or links like http or www\n",
    "    text = re.sub(r'http\\S+', '', text)\n",
    "    text = re.sub(r'www\\S+', '', text)\n",
    "\n",
    "    # convert to lower case\n",
    "    text = text.lower()\n",
    "\n",
    "    # remove stop words\n",
    "    text = ' '.join([word for word in text.split() if word not in stop_words])\n",
    "\n",
    "    # remove special characters\n",
    "    text = re.sub(r'\\W+', ' ', text)\n",
    "\n",
    "    text = re.sub(r'\\s+', ' ', text)\n",
    "    return text\n",
    "\n",
    "data['text'] = data['text'].apply(preprocess_text)"
   ]
  },
  {
   "cell_type": "code",
   "execution_count": 11,
   "metadata": {},
   "outputs": [
    {
     "data": {
      "text/html": [
       "<div>\n",
       "<style scoped>\n",
       "    .dataframe tbody tr th:only-of-type {\n",
       "        vertical-align: middle;\n",
       "    }\n",
       "\n",
       "    .dataframe tbody tr th {\n",
       "        vertical-align: top;\n",
       "    }\n",
       "\n",
       "    .dataframe thead th {\n",
       "        text-align: right;\n",
       "    }\n",
       "</style>\n",
       "<table border=\"1\" class=\"dataframe\">\n",
       "  <thead>\n",
       "    <tr style=\"text-align: right;\">\n",
       "      <th></th>\n",
       "      <th>text</th>\n",
       "      <th>label</th>\n",
       "    </tr>\n",
       "  </thead>\n",
       "  <tbody>\n",
       "    <tr>\n",
       "      <th>11</th>\n",
       "      <td></td>\n",
       "      <td>0</td>\n",
       "    </tr>\n",
       "    <tr>\n",
       "      <th>13034</th>\n",
       "      <td></td>\n",
       "      <td>0</td>\n",
       "    </tr>\n",
       "    <tr>\n",
       "      <th>15454</th>\n",
       "      <td></td>\n",
       "      <td>0</td>\n",
       "    </tr>\n",
       "    <tr>\n",
       "      <th>16009</th>\n",
       "      <td></td>\n",
       "      <td>0</td>\n",
       "    </tr>\n",
       "    <tr>\n",
       "      <th>16785</th>\n",
       "      <td></td>\n",
       "      <td>0</td>\n",
       "    </tr>\n",
       "    <tr>\n",
       "      <th>19898</th>\n",
       "      <td></td>\n",
       "      <td>0</td>\n",
       "    </tr>\n",
       "    <tr>\n",
       "      <th>28337</th>\n",
       "      <td></td>\n",
       "      <td>0</td>\n",
       "    </tr>\n",
       "    <tr>\n",
       "      <th>32317</th>\n",
       "      <td></td>\n",
       "      <td>0</td>\n",
       "    </tr>\n",
       "    <tr>\n",
       "      <th>43200</th>\n",
       "      <td></td>\n",
       "      <td>0</td>\n",
       "    </tr>\n",
       "  </tbody>\n",
       "</table>\n",
       "</div>"
      ],
      "text/plain": [
       "      text  label\n",
       "11              0\n",
       "13034           0\n",
       "15454           0\n",
       "16009           0\n",
       "16785           0\n",
       "19898           0\n",
       "28337           0\n",
       "32317           0\n",
       "43200           0"
      ]
     },
     "execution_count": 11,
     "metadata": {},
     "output_type": "execute_result"
    }
   ],
   "source": [
    "# check if any text column strings length is less than 3\n",
    "data[data['text'].str.len() < 25]"
   ]
  },
  {
   "cell_type": "code",
   "execution_count": 12,
   "metadata": {},
   "outputs": [],
   "source": [
    "# drop rows with text length less than 3\n",
    "data = data.drop(data[data['text'].str.len() < 25].index)"
   ]
  },
  {
   "cell_type": "code",
   "execution_count": 13,
   "metadata": {},
   "outputs": [
    {
     "data": {
      "text/plain": [
       "text     0\n",
       "label    0\n",
       "dtype: int64"
      ]
     },
     "execution_count": 13,
     "metadata": {},
     "output_type": "execute_result"
    }
   ],
   "source": [
    "# count empty cells in text column\n",
    "data.isnull().sum()"
   ]
  },
  {
   "cell_type": "code",
   "execution_count": 14,
   "metadata": {},
   "outputs": [],
   "source": [
    "# save the data set to new csv file\n",
    "data.to_csv('datasets/Preprocessed_data.csv', index=False)"
   ]
  },
  {
   "cell_type": "code",
   "execution_count": 63,
   "metadata": {},
   "outputs": [],
   "source": [
    "# Standard library imports\n",
    "import multiprocessing\n",
    "import pickle\n",
    "\n",
    "# Third party imports\n",
    "from sklearn.linear_model import LogisticRegression\n",
    "from sklearn.naive_bayes import GaussianNB\n",
    "from sklearn.ensemble import BaggingClassifier, RandomForestClassifier, VotingClassifier\n",
    "from sklearn.metrics import accuracy_score, f1_score, classification_report\n",
    "from sklearn.model_selection import train_test_split\n",
    "from sklearn.preprocessing import LabelEncoder\n",
    "from sklearn.svm import SVC\n",
    "\n",
    "import gensim\n",
    "from gensim.models.doc2vec import Doc2Vec, TaggedDocument\n",
    "\n",
    "import matplotlib.pyplot as plt\n",
    "import numpy as np\n",
    "import pandas as pd\n",
    "\n",
    "import tensorflow as tf\n",
    "from tensorflow import keras\n",
    "\n",
    "from keras.layers import Dense, Dropout, LSTM, Embedding, Bidirectional, Attention, Flatten, Input, Concatenate, Reshape, Conv1D, MaxPooling1D, GlobalMaxPooling1D"
   ]
  },
  {
   "cell_type": "code",
   "execution_count": 17,
   "metadata": {},
   "outputs": [],
   "source": [
    "# Load the dataset\n",
    "df = pd.read_csv('datasets/Preprocessed_data.csv')\n",
    "\n",
    "# Split the dataframe into training and testing sets\n",
    "train_df, test_df = train_test_split(df, test_size=0.2, random_state=42)"
   ]
  },
  {
   "cell_type": "code",
   "execution_count": 18,
   "metadata": {},
   "outputs": [],
   "source": [
    "def make_tagged_document(df):\n",
    "    \"\"\"\n",
    "    Create a list of tagged documents from a dataframe\n",
    "    \"\"\"\n",
    "    # Create an empty list for storing tagged documents\n",
    "    tagged_documents = []\n",
    "\n",
    "    # Iterate over the rows of the data frame\n",
    "    for index, row in df.iterrows():\n",
    "        # Get the text and the label from the row\n",
    "        texts = str(row['text'])\n",
    "        labels = str(row['label'])\n",
    "\n",
    "        # Split the text into a list of words\n",
    "        words = texts.split()\n",
    "\n",
    "        # Create a list of tags using the index and the label\n",
    "        tags = [str(index), labels]\n",
    "\n",
    "        # Create a tagged document object\n",
    "        tagged_document = TaggedDocument(words=words, tags=tags)\n",
    "\n",
    "        # Append the tagged document to the list\n",
    "        tagged_documents.append(tagged_document)\n",
    "\n",
    "    # Return the list of tagged documents\n",
    "    return tagged_documents"
   ]
  },
  {
   "cell_type": "code",
   "execution_count": 19,
   "metadata": {},
   "outputs": [],
   "source": [
    "# Create tagged documents from the preprocessed text data\n",
    "tagged_train_documents = make_tagged_document(train_df)\n",
    "tagged_test_documents = make_tagged_document(test_df)"
   ]
  },
  {
   "cell_type": "markdown",
   "metadata": {},
   "source": [
    "# Word Embedding with doc2Vec"
   ]
  },
  {
   "cell_type": "code",
   "execution_count": 21,
   "metadata": {},
   "outputs": [],
   "source": [
    "# Use all available CPU cores\n",
    "cores = multiprocessing.cpu_count()\n",
    "\n",
    "# Create a Doc2Vec model with vector size 100\n",
    "model = Doc2Vec(vector_size=100, min_count=2, epochs=40, workers=cores)\n",
    "\n",
    "# Build a vocabulary from the training set\n",
    "model.build_vocab(tagged_train_documents)\n",
    "\n",
    "# Train the Doc2Vec model\n",
    "model.train(tagged_train_documents, total_examples=model.corpus_count, epochs=model.epochs)"
   ]
  },
  {
   "cell_type": "code",
   "execution_count": 22,
   "metadata": {},
   "outputs": [],
   "source": [
    "model.save(\"models/doc2vec.model\")"
   ]
  },
  {
   "cell_type": "markdown",
   "metadata": {},
   "source": [
    "<h3> Inferriing vector representation for each document -- vectorization </h3>"
   ]
  },
  {
   "cell_type": "code",
   "execution_count": 23,
   "metadata": {},
   "outputs": [],
   "source": [
    "# Infer the feature representation for test documents\n",
    "X_train = [model.infer_vector(eval(str(doc.words))) for doc in tagged_train_documents]\n",
    "X_test = [model.infer_vector(eval(str(doc.words))) for doc in tagged_test_documents]"
   ]
  },
  {
   "cell_type": "code",
   "execution_count": 24,
   "metadata": {},
   "outputs": [],
   "source": [
    "# Get the labels for the training and test data\n",
    "y_test = [doc.tags[1] for doc in tagged_test_documents]\n",
    "y_train = [doc.tags[1] for doc in tagged_train_documents]"
   ]
  },
  {
   "cell_type": "markdown",
   "metadata": {},
   "source": [
    "# Classificaiton models"
   ]
  },
  {
   "cell_type": "markdown",
   "metadata": {},
   "source": [
    "# Logistic Regression"
   ]
  },
  {
   "cell_type": "code",
   "execution_count": 36,
   "metadata": {},
   "outputs": [],
   "source": [
    "# Train a logistic regression model\n",
    "clf = LogisticRegression()\n",
    "clf.fit(X_train, y_train)\n",
    "\n",
    "# Make predictions on the test set\n",
    "y_pred = clf.predict(X_test)"
   ]
  },
  {
   "cell_type": "code",
   "execution_count": 37,
   "metadata": {},
   "outputs": [
    {
     "name": "stdout",
     "output_type": "stream",
     "text": [
      "Accuracy: 0.9838494096680775\n",
      "classification report:\n",
      "              precision    recall  f1-score   support\n",
      "\n",
      "           0       0.98      0.99      0.98      4753\n",
      "           1       0.98      0.98      0.98      4225\n",
      "\n",
      "    accuracy                           0.98      8978\n",
      "   macro avg       0.98      0.98      0.98      8978\n",
      "weighted avg       0.98      0.98      0.98      8978\n",
      "\n"
     ]
    }
   ],
   "source": [
    "# Calculate the accuracy score on the test set\n",
    "accuracy = accuracy_score(y_test, y_pred)\n",
    "print(\"Accuracy:\", accuracy)\n",
    "\n",
    "# Calculate the F1 score on the test set\n",
    "print(\"classification report:\")\n",
    "print(classification_report(y_test, y_pred))"
   ]
  },
  {
   "cell_type": "markdown",
   "metadata": {},
   "source": [
    "# SUPPORT VECTOR MACHINE"
   ]
  },
  {
   "cell_type": "code",
   "execution_count": 38,
   "metadata": {},
   "outputs": [
    {
     "name": "stdout",
     "output_type": "stream",
     "text": [
      "Accuracy: 0.9847404767208733\n",
      "classification report:\n",
      "              precision    recall  f1-score   support\n",
      "\n",
      "           0       0.99      0.99      0.99      4753\n",
      "           1       0.98      0.98      0.98      4225\n",
      "\n",
      "    accuracy                           0.98      8978\n",
      "   macro avg       0.98      0.98      0.98      8978\n",
      "weighted avg       0.98      0.98      0.98      8978\n",
      "\n"
     ]
    }
   ],
   "source": [
    "svm_classifier = SVC(kernel='linear', C=1.0, probability=True)\n",
    "svm_classifier.fit(X_train, y_train)\n",
    "y2_pred = svm_classifier.predict(X_test)\n",
    "\n",
    "# Calculate the accuracy score on the test set\n",
    "accuracy = accuracy_score(y_test, y2_pred)\n",
    "print(\"Accuracy:\", accuracy)\n",
    "\n",
    "# Evaluate the model\n",
    "print(\"classification report:\")\n",
    "print(classification_report(y_test, y2_pred))"
   ]
  },
  {
   "cell_type": "markdown",
   "metadata": {},
   "source": [
    "# BAYESIAN CLASSIFIER"
   ]
  },
  {
   "cell_type": "code",
   "execution_count": 39,
   "metadata": {},
   "outputs": [
    {
     "data": {
      "text/html": [
       "<style>#sk-container-id-3 {color: black;}#sk-container-id-3 pre{padding: 0;}#sk-container-id-3 div.sk-toggleable {background-color: white;}#sk-container-id-3 label.sk-toggleable__label {cursor: pointer;display: block;width: 100%;margin-bottom: 0;padding: 0.3em;box-sizing: border-box;text-align: center;}#sk-container-id-3 label.sk-toggleable__label-arrow:before {content: \"▸\";float: left;margin-right: 0.25em;color: #696969;}#sk-container-id-3 label.sk-toggleable__label-arrow:hover:before {color: black;}#sk-container-id-3 div.sk-estimator:hover label.sk-toggleable__label-arrow:before {color: black;}#sk-container-id-3 div.sk-toggleable__content {max-height: 0;max-width: 0;overflow: hidden;text-align: left;background-color: #f0f8ff;}#sk-container-id-3 div.sk-toggleable__content pre {margin: 0.2em;color: black;border-radius: 0.25em;background-color: #f0f8ff;}#sk-container-id-3 input.sk-toggleable__control:checked~div.sk-toggleable__content {max-height: 200px;max-width: 100%;overflow: auto;}#sk-container-id-3 input.sk-toggleable__control:checked~label.sk-toggleable__label-arrow:before {content: \"▾\";}#sk-container-id-3 div.sk-estimator input.sk-toggleable__control:checked~label.sk-toggleable__label {background-color: #d4ebff;}#sk-container-id-3 div.sk-label input.sk-toggleable__control:checked~label.sk-toggleable__label {background-color: #d4ebff;}#sk-container-id-3 input.sk-hidden--visually {border: 0;clip: rect(1px 1px 1px 1px);clip: rect(1px, 1px, 1px, 1px);height: 1px;margin: -1px;overflow: hidden;padding: 0;position: absolute;width: 1px;}#sk-container-id-3 div.sk-estimator {font-family: monospace;background-color: #f0f8ff;border: 1px dotted black;border-radius: 0.25em;box-sizing: border-box;margin-bottom: 0.5em;}#sk-container-id-3 div.sk-estimator:hover {background-color: #d4ebff;}#sk-container-id-3 div.sk-parallel-item::after {content: \"\";width: 100%;border-bottom: 1px solid gray;flex-grow: 1;}#sk-container-id-3 div.sk-label:hover label.sk-toggleable__label {background-color: #d4ebff;}#sk-container-id-3 div.sk-serial::before {content: \"\";position: absolute;border-left: 1px solid gray;box-sizing: border-box;top: 0;bottom: 0;left: 50%;z-index: 0;}#sk-container-id-3 div.sk-serial {display: flex;flex-direction: column;align-items: center;background-color: white;padding-right: 0.2em;padding-left: 0.2em;position: relative;}#sk-container-id-3 div.sk-item {position: relative;z-index: 1;}#sk-container-id-3 div.sk-parallel {display: flex;align-items: stretch;justify-content: center;background-color: white;position: relative;}#sk-container-id-3 div.sk-item::before, #sk-container-id-3 div.sk-parallel-item::before {content: \"\";position: absolute;border-left: 1px solid gray;box-sizing: border-box;top: 0;bottom: 0;left: 50%;z-index: -1;}#sk-container-id-3 div.sk-parallel-item {display: flex;flex-direction: column;z-index: 1;position: relative;background-color: white;}#sk-container-id-3 div.sk-parallel-item:first-child::after {align-self: flex-end;width: 50%;}#sk-container-id-3 div.sk-parallel-item:last-child::after {align-self: flex-start;width: 50%;}#sk-container-id-3 div.sk-parallel-item:only-child::after {width: 0;}#sk-container-id-3 div.sk-dashed-wrapped {border: 1px dashed gray;margin: 0 0.4em 0.5em 0.4em;box-sizing: border-box;padding-bottom: 0.4em;background-color: white;}#sk-container-id-3 div.sk-label label {font-family: monospace;font-weight: bold;display: inline-block;line-height: 1.2em;}#sk-container-id-3 div.sk-label-container {text-align: center;}#sk-container-id-3 div.sk-container {/* jupyter's `normalize.less` sets `[hidden] { display: none; }` but bootstrap.min.css set `[hidden] { display: none !important; }` so we also need the `!important` here to be able to override the default hidden behavior on the sphinx rendered scikit-learn.org. See: https://github.com/scikit-learn/scikit-learn/issues/21755 */display: inline-block !important;position: relative;}#sk-container-id-3 div.sk-text-repr-fallback {display: none;}</style><div id=\"sk-container-id-3\" class=\"sk-top-container\"><div class=\"sk-text-repr-fallback\"><pre>GaussianNB()</pre><b>In a Jupyter environment, please rerun this cell to show the HTML representation or trust the notebook. <br />On GitHub, the HTML representation is unable to render, please try loading this page with nbviewer.org.</b></div><div class=\"sk-container\" hidden><div class=\"sk-item\"><div class=\"sk-estimator sk-toggleable\"><input class=\"sk-toggleable__control sk-hidden--visually\" id=\"sk-estimator-id-6\" type=\"checkbox\" checked><label for=\"sk-estimator-id-6\" class=\"sk-toggleable__label sk-toggleable__label-arrow\">GaussianNB</label><div class=\"sk-toggleable__content\"><pre>GaussianNB()</pre></div></div></div></div></div>"
      ],
      "text/plain": [
       "GaussianNB()"
      ]
     },
     "execution_count": 39,
     "metadata": {},
     "output_type": "execute_result"
    }
   ],
   "source": [
    "# Train a Bayesian model\n",
    "bayes_classifier = GaussianNB()\n",
    "bayes_classifier.fit(X_train, y_train)"
   ]
  },
  {
   "cell_type": "code",
   "execution_count": 40,
   "metadata": {},
   "outputs": [
    {
     "name": "stdout",
     "output_type": "stream",
     "text": [
      "Accuracy: 0.9501002450434395\n",
      "classification report:\n",
      "              precision    recall  f1-score   support\n",
      "\n",
      "           0       0.99      0.92      0.95      4753\n",
      "           1       0.92      0.98      0.95      4225\n",
      "\n",
      "    accuracy                           0.95      8978\n",
      "   macro avg       0.95      0.95      0.95      8978\n",
      "weighted avg       0.95      0.95      0.95      8978\n",
      "\n"
     ]
    }
   ],
   "source": [
    "\n",
    "y3_pred = bayes_classifier.predict(X_test)\n",
    "\n",
    "# Calculate the accuracy score on the test set\n",
    "accuracy = accuracy_score(y_test, y3_pred)\n",
    "print(\"Accuracy:\", accuracy)\n",
    "\n",
    "# Evaluate the model\n",
    "print(\"classification report:\")\n",
    "print(classification_report(y_test, y3_pred))"
   ]
  },
  {
   "cell_type": "markdown",
   "metadata": {},
   "source": [
    "# Bagging"
   ]
  },
  {
   "cell_type": "code",
   "execution_count": 41,
   "metadata": {},
   "outputs": [
    {
     "name": "stdout",
     "output_type": "stream",
     "text": [
      "Accuracy: 0.9320561372243261\n",
      "classification report:\n",
      "              precision    recall  f1-score   support\n",
      "\n",
      "           0       0.91      0.96      0.94      4753\n",
      "           1       0.95      0.90      0.93      4225\n",
      "\n",
      "    accuracy                           0.93      8978\n",
      "   macro avg       0.93      0.93      0.93      8978\n",
      "weighted avg       0.93      0.93      0.93      8978\n",
      "\n"
     ]
    }
   ],
   "source": [
    "# Train a Baggging model\n",
    "bagging_classifier = BaggingClassifier()\n",
    "bagging_classifier.fit(X_train, y_train)\n",
    "y4_pred = bagging_classifier.predict(X_test)\n",
    "\n",
    "# Calculate the accuracy score on the test set\n",
    "accuracy = accuracy_score(y_test, y4_pred)\n",
    "print(\"Accuracy:\", accuracy)\n",
    "\n",
    "# Evaluate the model\n",
    "print(\"classification report:\")\n",
    "print(classification_report(y_test, y4_pred))"
   ]
  },
  {
   "cell_type": "markdown",
   "metadata": {},
   "source": [
    "# Random Forest"
   ]
  },
  {
   "cell_type": "code",
   "execution_count": 42,
   "metadata": {},
   "outputs": [
    {
     "name": "stdout",
     "output_type": "stream",
     "text": [
      "Accuracy: 0.9731566050345288\n",
      "classification report:\n",
      "              precision    recall  f1-score   support\n",
      "\n",
      "           0       0.97      0.98      0.97      4753\n",
      "           1       0.98      0.96      0.97      4225\n",
      "\n",
      "    accuracy                           0.97      8978\n",
      "   macro avg       0.97      0.97      0.97      8978\n",
      "weighted avg       0.97      0.97      0.97      8978\n",
      "\n"
     ]
    }
   ],
   "source": [
    "# Train a Random Forest model\n",
    "rf_classifier = RandomForestClassifier(n_estimators=100, random_state=42)\n",
    "rf_classifier.fit(X_train, y_train)\n",
    "y4_pred = rf_classifier.predict(X_test)\n",
    "\n",
    "# Calculate the accuracy score on the test set\n",
    "accuracy = accuracy_score(y_test, y4_pred)\n",
    "print(\"Accuracy:\", accuracy)\n",
    "\n",
    "# Evaluate the model\n",
    "print(\"classification report:\")\n",
    "print(classification_report(y_test, y4_pred))"
   ]
  },
  {
   "cell_type": "markdown",
   "metadata": {},
   "source": [
    "# Combine model using Voting"
   ]
  },
  {
   "cell_type": "code",
   "execution_count": 153,
   "metadata": {},
   "outputs": [],
   "source": [
    "# Combine model using soft voting\n",
    "estimators = []\n",
    "estimators.append(('logistic', clf))\n",
    "estimators.append(('svm', svm_classifier))\n",
    "estimators.append(('randomforest', rf_classifier))\n",
    "ensemble = VotingClassifier(estimators, voting='soft', weights=[1, 1, 1])"
   ]
  },
  {
   "cell_type": "code",
   "execution_count": 154,
   "metadata": {},
   "outputs": [
    {
     "data": {
      "text/html": [
       "<style>#sk-container-id-5 {color: black;}#sk-container-id-5 pre{padding: 0;}#sk-container-id-5 div.sk-toggleable {background-color: white;}#sk-container-id-5 label.sk-toggleable__label {cursor: pointer;display: block;width: 100%;margin-bottom: 0;padding: 0.3em;box-sizing: border-box;text-align: center;}#sk-container-id-5 label.sk-toggleable__label-arrow:before {content: \"▸\";float: left;margin-right: 0.25em;color: #696969;}#sk-container-id-5 label.sk-toggleable__label-arrow:hover:before {color: black;}#sk-container-id-5 div.sk-estimator:hover label.sk-toggleable__label-arrow:before {color: black;}#sk-container-id-5 div.sk-toggleable__content {max-height: 0;max-width: 0;overflow: hidden;text-align: left;background-color: #f0f8ff;}#sk-container-id-5 div.sk-toggleable__content pre {margin: 0.2em;color: black;border-radius: 0.25em;background-color: #f0f8ff;}#sk-container-id-5 input.sk-toggleable__control:checked~div.sk-toggleable__content {max-height: 200px;max-width: 100%;overflow: auto;}#sk-container-id-5 input.sk-toggleable__control:checked~label.sk-toggleable__label-arrow:before {content: \"▾\";}#sk-container-id-5 div.sk-estimator input.sk-toggleable__control:checked~label.sk-toggleable__label {background-color: #d4ebff;}#sk-container-id-5 div.sk-label input.sk-toggleable__control:checked~label.sk-toggleable__label {background-color: #d4ebff;}#sk-container-id-5 input.sk-hidden--visually {border: 0;clip: rect(1px 1px 1px 1px);clip: rect(1px, 1px, 1px, 1px);height: 1px;margin: -1px;overflow: hidden;padding: 0;position: absolute;width: 1px;}#sk-container-id-5 div.sk-estimator {font-family: monospace;background-color: #f0f8ff;border: 1px dotted black;border-radius: 0.25em;box-sizing: border-box;margin-bottom: 0.5em;}#sk-container-id-5 div.sk-estimator:hover {background-color: #d4ebff;}#sk-container-id-5 div.sk-parallel-item::after {content: \"\";width: 100%;border-bottom: 1px solid gray;flex-grow: 1;}#sk-container-id-5 div.sk-label:hover label.sk-toggleable__label {background-color: #d4ebff;}#sk-container-id-5 div.sk-serial::before {content: \"\";position: absolute;border-left: 1px solid gray;box-sizing: border-box;top: 0;bottom: 0;left: 50%;z-index: 0;}#sk-container-id-5 div.sk-serial {display: flex;flex-direction: column;align-items: center;background-color: white;padding-right: 0.2em;padding-left: 0.2em;position: relative;}#sk-container-id-5 div.sk-item {position: relative;z-index: 1;}#sk-container-id-5 div.sk-parallel {display: flex;align-items: stretch;justify-content: center;background-color: white;position: relative;}#sk-container-id-5 div.sk-item::before, #sk-container-id-5 div.sk-parallel-item::before {content: \"\";position: absolute;border-left: 1px solid gray;box-sizing: border-box;top: 0;bottom: 0;left: 50%;z-index: -1;}#sk-container-id-5 div.sk-parallel-item {display: flex;flex-direction: column;z-index: 1;position: relative;background-color: white;}#sk-container-id-5 div.sk-parallel-item:first-child::after {align-self: flex-end;width: 50%;}#sk-container-id-5 div.sk-parallel-item:last-child::after {align-self: flex-start;width: 50%;}#sk-container-id-5 div.sk-parallel-item:only-child::after {width: 0;}#sk-container-id-5 div.sk-dashed-wrapped {border: 1px dashed gray;margin: 0 0.4em 0.5em 0.4em;box-sizing: border-box;padding-bottom: 0.4em;background-color: white;}#sk-container-id-5 div.sk-label label {font-family: monospace;font-weight: bold;display: inline-block;line-height: 1.2em;}#sk-container-id-5 div.sk-label-container {text-align: center;}#sk-container-id-5 div.sk-container {/* jupyter's `normalize.less` sets `[hidden] { display: none; }` but bootstrap.min.css set `[hidden] { display: none !important; }` so we also need the `!important` here to be able to override the default hidden behavior on the sphinx rendered scikit-learn.org. See: https://github.com/scikit-learn/scikit-learn/issues/21755 */display: inline-block !important;position: relative;}#sk-container-id-5 div.sk-text-repr-fallback {display: none;}</style><div id=\"sk-container-id-5\" class=\"sk-top-container\"><div class=\"sk-text-repr-fallback\"><pre>VotingClassifier(estimators=[(&#x27;logistic&#x27;, LogisticRegression()),\n",
       "                             (&#x27;svm&#x27;, SVC(kernel=&#x27;linear&#x27;, probability=True)),\n",
       "                             (&#x27;randomforest&#x27;,\n",
       "                              RandomForestClassifier(random_state=42))],\n",
       "                 voting=&#x27;soft&#x27;, weights=[1, 1, 1])</pre><b>In a Jupyter environment, please rerun this cell to show the HTML representation or trust the notebook. <br />On GitHub, the HTML representation is unable to render, please try loading this page with nbviewer.org.</b></div><div class=\"sk-container\" hidden><div class=\"sk-item sk-dashed-wrapped\"><div class=\"sk-label-container\"><div class=\"sk-label sk-toggleable\"><input class=\"sk-toggleable__control sk-hidden--visually\" id=\"sk-estimator-id-11\" type=\"checkbox\" ><label for=\"sk-estimator-id-11\" class=\"sk-toggleable__label sk-toggleable__label-arrow\">VotingClassifier</label><div class=\"sk-toggleable__content\"><pre>VotingClassifier(estimators=[(&#x27;logistic&#x27;, LogisticRegression()),\n",
       "                             (&#x27;svm&#x27;, SVC(kernel=&#x27;linear&#x27;, probability=True)),\n",
       "                             (&#x27;randomforest&#x27;,\n",
       "                              RandomForestClassifier(random_state=42))],\n",
       "                 voting=&#x27;soft&#x27;, weights=[1, 1, 1])</pre></div></div></div><div class=\"sk-parallel\"><div class=\"sk-parallel-item\"><div class=\"sk-item\"><div class=\"sk-label-container\"><div class=\"sk-label sk-toggleable\"><label>logistic</label></div></div><div class=\"sk-serial\"><div class=\"sk-item\"><div class=\"sk-estimator sk-toggleable\"><input class=\"sk-toggleable__control sk-hidden--visually\" id=\"sk-estimator-id-12\" type=\"checkbox\" ><label for=\"sk-estimator-id-12\" class=\"sk-toggleable__label sk-toggleable__label-arrow\">LogisticRegression</label><div class=\"sk-toggleable__content\"><pre>LogisticRegression()</pre></div></div></div></div></div></div><div class=\"sk-parallel-item\"><div class=\"sk-item\"><div class=\"sk-label-container\"><div class=\"sk-label sk-toggleable\"><label>svm</label></div></div><div class=\"sk-serial\"><div class=\"sk-item\"><div class=\"sk-estimator sk-toggleable\"><input class=\"sk-toggleable__control sk-hidden--visually\" id=\"sk-estimator-id-13\" type=\"checkbox\" ><label for=\"sk-estimator-id-13\" class=\"sk-toggleable__label sk-toggleable__label-arrow\">SVC</label><div class=\"sk-toggleable__content\"><pre>SVC(kernel=&#x27;linear&#x27;, probability=True)</pre></div></div></div></div></div></div><div class=\"sk-parallel-item\"><div class=\"sk-item\"><div class=\"sk-label-container\"><div class=\"sk-label sk-toggleable\"><label>randomforest</label></div></div><div class=\"sk-serial\"><div class=\"sk-item\"><div class=\"sk-estimator sk-toggleable\"><input class=\"sk-toggleable__control sk-hidden--visually\" id=\"sk-estimator-id-14\" type=\"checkbox\" ><label for=\"sk-estimator-id-14\" class=\"sk-toggleable__label sk-toggleable__label-arrow\">RandomForestClassifier</label><div class=\"sk-toggleable__content\"><pre>RandomForestClassifier(random_state=42)</pre></div></div></div></div></div></div></div></div></div></div>"
      ],
      "text/plain": [
       "VotingClassifier(estimators=[('logistic', LogisticRegression()),\n",
       "                             ('svm', SVC(kernel='linear', probability=True)),\n",
       "                             ('randomforest',\n",
       "                              RandomForestClassifier(random_state=42))],\n",
       "                 voting='soft', weights=[1, 1, 1])"
      ]
     },
     "execution_count": 154,
     "metadata": {},
     "output_type": "execute_result"
    }
   ],
   "source": [
    "ensemble.fit(X_train, y_train)"
   ]
  },
  {
   "cell_type": "code",
   "execution_count": 155,
   "metadata": {},
   "outputs": [
    {
     "name": "stdout",
     "output_type": "stream",
     "text": [
      "Accuracy: 0.9862998440632658\n",
      "classification report:\n",
      "              precision    recall  f1-score   support\n",
      "\n",
      "           0       0.99      0.99      0.99      4753\n",
      "           1       0.99      0.99      0.99      4225\n",
      "\n",
      "    accuracy                           0.99      8978\n",
      "   macro avg       0.99      0.99      0.99      8978\n",
      "weighted avg       0.99      0.99      0.99      8978\n",
      "\n"
     ]
    }
   ],
   "source": [
    "y_pred = ensemble.predict(X_test)\n",
    "accuracy = accuracy_score(y_test, y_pred)\n",
    "print(\"Accuracy:\", accuracy)\n",
    "print(\"classification report:\")\n",
    "print(classification_report(y_test, y_pred))"
   ]
  },
  {
   "cell_type": "code",
   "execution_count": 156,
   "metadata": {},
   "outputs": [],
   "source": [
    "# Save the models\n",
    "filename = 'models/logistic.sav'\n",
    "pickle.dump(clf, open(filename, 'wb'))\n",
    "\n",
    "filename = 'models/svm.sav'\n",
    "pickle.dump(svm_classifier, open(filename, 'wb'))\n",
    "\n",
    "filename = 'models/bayes.sav'\n",
    "pickle.dump(bayes_classifier, open(filename, 'wb'))\n",
    "\n",
    "filename = 'models/bagging.sav'\n",
    "pickle.dump(bagging_classifier, open(filename, 'wb'))\n",
    "\n",
    "filename = 'models/randomforest.sav'\n",
    "pickle.dump(rf_classifier, open(filename, 'wb'))\n",
    "\n",
    "filename = 'models/voting.sav'\n",
    "pickle.dump(ensemble, open(filename, 'wb'))"
   ]
  },
  {
   "cell_type": "markdown",
   "metadata": {},
   "source": [
    "# Deep learning neural network model"
   ]
  },
  {
   "cell_type": "code",
   "execution_count": 47,
   "metadata": {},
   "outputs": [],
   "source": [
    "# Convert the training and test input data to numpy arrays\n",
    "X_train2 = np.array(X_train)\n",
    "X_test2 = np.array(X_test)\n",
    "\n",
    "# Initialize the LabelEncoder object\n",
    "le = LabelEncoder()\n",
    "\n",
    "# Fit and transform the training output data using the LabelEncoder\n",
    "y_train2 = le.fit_transform(y_train)\n",
    "\n",
    "# Transform the test output data using the LabelEncoder\n",
    "y_test2 = le.transform(y_test)"
   ]
  },
  {
   "cell_type": "markdown",
   "metadata": {},
   "source": [
    "# LSTM"
   ]
  },
  {
   "cell_type": "code",
   "execution_count": 53,
   "metadata": {},
   "outputs": [
    {
     "name": "stdout",
     "output_type": "stream",
     "text": [
      "Model: \"sequential_4\"\n",
      "_________________________________________________________________\n",
      " Layer (type)                Output Shape              Param #   \n",
      "=================================================================\n",
      " reshape_1 (Reshape)         (None, 100, 1)            0         \n",
      "                                                                 \n",
      " lstm_2 (LSTM)               (None, 64)                16896     \n",
      "                                                                 \n",
      " dropout_3 (Dropout)         (None, 64)                0         \n",
      "                                                                 \n",
      " dense_4 (Dense)             (None, 1)                 65        \n",
      "                                                                 \n",
      "=================================================================\n",
      "Total params: 16,961\n",
      "Trainable params: 16,961\n",
      "Non-trainable params: 0\n",
      "_________________________________________________________________\n"
     ]
    }
   ],
   "source": [
    "# make a neural network model with LSTM that can be used with Doc2Vec representations\n",
    "modLSTM = keras.Sequential()\n",
    "modLSTM.add(Input(shape=(100,)))\n",
    "modLSTM.add(Reshape((100, 1)))\n",
    "modLSTM.add(LSTM(64))\n",
    "modLSTM.add(Dropout(0.5))\n",
    "modLSTM.add(Dense(1, activation='sigmoid'))\n",
    "\n",
    "modLSTM.compile(loss='binary_crossentropy', optimizer='adam', metrics=['accuracy'])\n",
    "modLSTM.summary()"
   ]
  },
  {
   "cell_type": "code",
   "execution_count": 54,
   "metadata": {},
   "outputs": [
    {
     "name": "stdout",
     "output_type": "stream",
     "text": [
      "Epoch 1/10\n",
      "1123/1123 [==============================] - 21s 17ms/step - loss: 0.4536 - accuracy: 0.7826\n",
      "Epoch 2/10\n",
      "1123/1123 [==============================] - 19s 17ms/step - loss: 0.3038 - accuracy: 0.8713\n",
      "Epoch 3/10\n",
      "1123/1123 [==============================] - 19s 17ms/step - loss: 0.2094 - accuracy: 0.9186\n",
      "Epoch 4/10\n",
      "1123/1123 [==============================] - 19s 17ms/step - loss: 0.1570 - accuracy: 0.9416\n",
      "Epoch 5/10\n",
      "1123/1123 [==============================] - 19s 17ms/step - loss: 0.1316 - accuracy: 0.9515\n",
      "Epoch 6/10\n",
      "1123/1123 [==============================] - 19s 17ms/step - loss: 0.1187 - accuracy: 0.9564\n",
      "Epoch 7/10\n",
      "1123/1123 [==============================] - 19s 17ms/step - loss: 0.1060 - accuracy: 0.9617\n",
      "Epoch 8/10\n",
      "1123/1123 [==============================] - 19s 17ms/step - loss: 0.0920 - accuracy: 0.9659\n",
      "Epoch 9/10\n",
      "1123/1123 [==============================] - 19s 17ms/step - loss: 0.0807 - accuracy: 0.9707\n",
      "Epoch 10/10\n",
      "1123/1123 [==============================] - 19s 17ms/step - loss: 0.0838 - accuracy: 0.9695\n"
     ]
    }
   ],
   "source": [
    "LSTM_history = modLSTM.fit(X_train2, y_train2, epochs=10, batch_size=32, verbose=1)"
   ]
  },
  {
   "cell_type": "code",
   "execution_count": 159,
   "metadata": {},
   "outputs": [
    {
     "name": "stdout",
     "output_type": "stream",
     "text": [
      "281/281 [==============================] - 2s 9ms/step - loss: 0.0947 - accuracy: 0.9658\n",
      "Test accuracy: 0.9658052921295166\n",
      "281/281 [==============================] - 2s 7ms/step\n",
      "classification report:\n",
      "              precision    recall  f1-score   support\n",
      "\n",
      "           0       0.97      0.96      0.97      4753\n",
      "           1       0.96      0.97      0.96      4225\n",
      "\n",
      "    accuracy                           0.97      8978\n",
      "   macro avg       0.97      0.97      0.97      8978\n",
      "weighted avg       0.97      0.97      0.97      8978\n",
      "\n"
     ]
    }
   ],
   "source": [
    "# test accuracy and loss\n",
    "test_loss, test_accuracy = modLSTM.evaluate(X_test2, y_test2, verbose=1)\n",
    "print(\"Test accuracy:\", test_accuracy)\n",
    "\n",
    "y_pred = modLSTM.predict(X_test2)\n",
    "y_pred = np.round(y_pred).astype(int)\n",
    "print(\"classification report:\")\n",
    "print(classification_report(y_test2, y_pred))"
   ]
  },
  {
   "cell_type": "code",
   "execution_count": 98,
   "metadata": {},
   "outputs": [
    {
     "data": {
      "image/png": "[encoded data removed]",
      "text/plain": [
       "<Figure size 1200x400 with 2 Axes>"
      ]
     },
     "metadata": {},
     "output_type": "display_data"
    }
   ],
   "source": [
    "# Plot the accuracy and loss\n",
    "plt.figure(figsize=(12, 4))\n",
    "\n",
    "# Accuracy subplot\n",
    "plt.subplot(1, 2, 1)\n",
    "plt.plot(LSTM_history.history['accuracy'])\n",
    "plt.title('Model Accuracy')\n",
    "plt.ylabel('Accuracy')\n",
    "plt.xlabel('Epoch')\n",
    "plt.legend(['Train'], loc='upper left')\n",
    "\n",
    "# Loss subplot\n",
    "plt.subplot(1, 2, 2)\n",
    "plt.plot(LSTM_history.history['loss'])\n",
    "plt.title('Model Loss')\n",
    "plt.ylabel('Loss')\n",
    "plt.xlabel('Epoch')\n",
    "plt.legend(['Train'], loc='upper left')\n",
    "\n",
    "plt.tight_layout()\n",
    "plt.show()"
   ]
  },
  {
   "cell_type": "markdown",
   "metadata": {},
   "source": [
    "# Bi LSTM"
   ]
  },
  {
   "cell_type": "code",
   "execution_count": 59,
   "metadata": {},
   "outputs": [
    {
     "name": "stdout",
     "output_type": "stream",
     "text": [
      "Model: \"sequential_7\"\n",
      "_________________________________________________________________\n",
      " Layer (type)                Output Shape              Param #   \n",
      "=================================================================\n",
      " reshape_4 (Reshape)         (None, 100, 1)            0         \n",
      "                                                                 \n",
      " bidirectional_2 (Bidirectio  (None, 256)              133120    \n",
      " nal)                                                            \n",
      "                                                                 \n",
      " dropout_4 (Dropout)         (None, 256)               0         \n",
      "                                                                 \n",
      " dense_9 (Dense)             (None, 64)                16448     \n",
      "                                                                 \n",
      " dense_10 (Dense)            (None, 1)                 65        \n",
      "                                                                 \n",
      "=================================================================\n",
      "Total params: 149,633\n",
      "Trainable params: 149,633\n",
      "Non-trainable params: 0\n",
      "_________________________________________________________________\n"
     ]
    }
   ],
   "source": [
    "# Define a neural network model with Bi-LSTM that can be used with Doc2Vec representations\n",
    "modBiLSTM = keras.Sequential()\n",
    "modBiLSTM.add(Input(shape=(100,)))\n",
    "modBiLSTM.add(Reshape((100, 1)))\n",
    "modBiLSTM.add(Bidirectional(keras.layers.LSTM(128)))\n",
    "modBiLSTM.add(Dropout(0.5))\n",
    "modBiLSTM.add(Dense(64, activation='relu'))\n",
    "modBiLSTM.add(Dense(1, activation='sigmoid'))\n",
    "\n",
    "# Compile the model\n",
    "modBiLSTM.compile(optimizer='adam', loss='binary_crossentropy', metrics=['accuracy'])\n",
    "\n",
    "modBiLSTM.summary()"
   ]
  },
  {
   "cell_type": "code",
   "execution_count": 60,
   "metadata": {},
   "outputs": [
    {
     "name": "stdout",
     "output_type": "stream",
     "text": [
      "Epoch 1/10\n",
      "1123/1123 [==============================] - 61s 53ms/step - loss: 0.3888 - accuracy: 0.8181\n",
      "Epoch 2/10\n",
      "1123/1123 [==============================] - 63s 57ms/step - loss: 0.2056 - accuracy: 0.9168\n",
      "Epoch 3/10\n",
      "1123/1123 [==============================] - 66s 59ms/step - loss: 0.1418 - accuracy: 0.9439\n",
      "Epoch 4/10\n",
      "1123/1123 [==============================] - 66s 59ms/step - loss: 0.1155 - accuracy: 0.9558\n",
      "Epoch 5/10\n",
      "1123/1123 [==============================] - 66s 59ms/step - loss: 0.0928 - accuracy: 0.9659\n",
      "Epoch 6/10\n",
      "1123/1123 [==============================] - 65s 58ms/step - loss: 0.0803 - accuracy: 0.9698\n",
      "Epoch 7/10\n",
      "1123/1123 [==============================] - 65s 57ms/step - loss: 0.0709 - accuracy: 0.9740\n",
      "Epoch 8/10\n",
      "1123/1123 [==============================] - 65s 58ms/step - loss: 0.0626 - accuracy: 0.9769\n",
      "Epoch 9/10\n",
      "1123/1123 [==============================] - 65s 58ms/step - loss: 0.0569 - accuracy: 0.9794\n",
      "Epoch 10/10\n",
      "1123/1123 [==============================] - 70s 63ms/step - loss: 0.0512 - accuracy: 0.9810\n"
     ]
    }
   ],
   "source": [
    "BiLSTM_history = modBiLSTM.fit(X_train2, y_train2, epochs=10, batch_size=32, verbose=1)"
   ]
  },
  {
   "cell_type": "code",
   "execution_count": 158,
   "metadata": {},
   "outputs": [
    {
     "name": "stdout",
     "output_type": "stream",
     "text": [
      "281/281 [==============================] - 6s 19ms/step - loss: 0.1078 - accuracy: 0.9650\n",
      "Test accuracy: 0.9650256037712097\n",
      "281/281 [==============================] - 5s 18ms/step\n",
      "classification report:\n",
      "              precision    recall  f1-score   support\n",
      "\n",
      "           0       0.95      0.98      0.97      4753\n",
      "           1       0.98      0.95      0.96      4225\n",
      "\n",
      "    accuracy                           0.97      8978\n",
      "   macro avg       0.97      0.96      0.96      8978\n",
      "weighted avg       0.97      0.97      0.96      8978\n",
      "\n"
     ]
    }
   ],
   "source": [
    "# test accuracy and loss\n",
    "test_loss, test_accuracy = modBiLSTM.evaluate(X_test2, y_test2, verbose=1)\n",
    "print(\"Test accuracy:\", test_accuracy)\n",
    "\n",
    "y_pred = modBiLSTM.predict(X_test2)\n",
    "y_pred = np.round(y_pred).astype(int)\n",
    "print(\"classification report:\")\n",
    "print(classification_report(y_test2, y_pred))"
   ]
  },
  {
   "cell_type": "code",
   "execution_count": 100,
   "metadata": {},
   "outputs": [
    {
     "data": {
      "image/png": "[encoded data removed]",
      "text/plain": [
       "<Figure size 1200x400 with 2 Axes>"
      ]
     },
     "metadata": {},
     "output_type": "display_data"
    }
   ],
   "source": [
    "# Plot the accuracy and loss\n",
    "plt.figure(figsize=(12, 4))\n",
    "\n",
    "# Accuracy subplot\n",
    "plt.subplot(1, 2, 1)\n",
    "plt.plot(BiLSTM_history.history['accuracy'])\n",
    "plt.title('Model Accuracy')\n",
    "plt.ylabel('Accuracy')\n",
    "plt.xlabel('Epoch')\n",
    "plt.legend(['Train'], loc='upper left')\n",
    "\n",
    "# Loss subplot\n",
    "plt.subplot(1, 2, 2)\n",
    "plt.plot(BiLSTM_history.history['loss'])\n",
    "plt.title('Model Loss')\n",
    "plt.ylabel('Loss')\n",
    "plt.xlabel('Epoch')\n",
    "plt.legend(['Train'], loc='upper left')\n",
    "\n",
    "plt.tight_layout()\n",
    "plt.show()"
   ]
  },
  {
   "cell_type": "markdown",
   "metadata": {},
   "source": [
    "# CNN"
   ]
  },
  {
   "cell_type": "code",
   "execution_count": 80,
   "metadata": {},
   "outputs": [
    {
     "name": "stdout",
     "output_type": "stream",
     "text": [
      "Model: \"sequential_15\"\n",
      "_________________________________________________________________\n",
      " Layer (type)                Output Shape              Param #   \n",
      "=================================================================\n",
      " reshape_9 (Reshape)         (None, 100, 1)            0         \n",
      "                                                                 \n",
      " conv1d_9 (Conv1D)           (None, 96, 128)           768       \n",
      "                                                                 \n",
      " global_max_pooling1d_6 (Glo  (None, 128)              0         \n",
      " balMaxPooling1D)                                                \n",
      "                                                                 \n",
      " dense_21 (Dense)            (None, 64)                8256      \n",
      "                                                                 \n",
      " dense_22 (Dense)            (None, 1)                 65        \n",
      "                                                                 \n",
      "=================================================================\n",
      "Total params: 9,089\n",
      "Trainable params: 9,089\n",
      "Non-trainable params: 0\n",
      "_________________________________________________________________\n"
     ]
    }
   ],
   "source": [
    "# Define a neural network model with CNN that can be used with Doc2Vec representations\n",
    "modCNN = keras.Sequential()\n",
    "modCNN.add(Reshape((100, 1),input_shape=(100,)))\n",
    "modCNN.add(Conv1D(128, 5, activation='relu', input_shape=(None, 100)))\n",
    "modCNN.add(GlobalMaxPooling1D())\n",
    "modCNN.add(Dense(64, activation='relu'))\n",
    "# modCNN.add(Dropout(0.5))\n",
    "modCNN.add(Dense(1, activation='sigmoid'))\n",
    "\n",
    "modCNN.compile(optimizer='adam', loss='binary_crossentropy', metrics=['accuracy'])\n",
    "modCNN.summary()"
   ]
  },
  {
   "cell_type": "code",
   "execution_count": 81,
   "metadata": {},
   "outputs": [
    {
     "name": "stdout",
     "output_type": "stream",
     "text": [
      "Epoch 1/50\n",
      "1123/1123 - 5s - loss: 0.5600 - accuracy: 0.7057 - 5s/epoch - 5ms/step\n",
      "Epoch 2/50\n",
      "1123/1123 - 4s - loss: 0.5047 - accuracy: 0.7481 - 4s/epoch - 4ms/step\n",
      "Epoch 3/50\n",
      "1123/1123 - 4s - loss: 0.4903 - accuracy: 0.7620 - 4s/epoch - 4ms/step\n",
      "Epoch 4/50\n",
      "1123/1123 - 4s - loss: 0.4779 - accuracy: 0.7734 - 4s/epoch - 4ms/step\n",
      "Epoch 5/50\n",
      "1123/1123 - 4s - loss: 0.4673 - accuracy: 0.7813 - 4s/epoch - 3ms/step\n",
      "Epoch 6/50\n",
      "1123/1123 - 4s - loss: 0.4599 - accuracy: 0.7856 - 4s/epoch - 3ms/step\n",
      "Epoch 7/50\n",
      "1123/1123 - 4s - loss: 0.4573 - accuracy: 0.7896 - 4s/epoch - 4ms/step\n",
      "Epoch 8/50\n",
      "1123/1123 - 4s - loss: 0.4508 - accuracy: 0.7903 - 4s/epoch - 4ms/step\n",
      "Epoch 9/50\n",
      "1123/1123 - 4s - loss: 0.4438 - accuracy: 0.7939 - 4s/epoch - 4ms/step\n",
      "Epoch 10/50\n",
      "1123/1123 - 4s - loss: 0.4414 - accuracy: 0.7943 - 4s/epoch - 3ms/step\n",
      "Epoch 11/50\n",
      "1123/1123 - 4s - loss: 0.4384 - accuracy: 0.7960 - 4s/epoch - 3ms/step\n",
      "Epoch 12/50\n",
      "1123/1123 - 4s - loss: 0.4311 - accuracy: 0.8002 - 4s/epoch - 4ms/step\n",
      "Epoch 13/50\n",
      "1123/1123 - 4s - loss: 0.4319 - accuracy: 0.7987 - 4s/epoch - 3ms/step\n",
      "Epoch 14/50\n",
      "1123/1123 - 4s - loss: 0.4315 - accuracy: 0.7989 - 4s/epoch - 3ms/step\n",
      "Epoch 15/50\n",
      "1123/1123 - 4s - loss: 0.4252 - accuracy: 0.8033 - 4s/epoch - 3ms/step\n",
      "Epoch 16/50\n",
      "1123/1123 - 4s - loss: 0.4262 - accuracy: 0.8034 - 4s/epoch - 3ms/step\n",
      "Epoch 17/50\n",
      "1123/1123 - 4s - loss: 0.4202 - accuracy: 0.8065 - 4s/epoch - 3ms/step\n",
      "Epoch 18/50\n",
      "1123/1123 - 4s - loss: 0.4249 - accuracy: 0.8038 - 4s/epoch - 3ms/step\n",
      "Epoch 19/50\n",
      "1123/1123 - 4s - loss: 0.4189 - accuracy: 0.8065 - 4s/epoch - 3ms/step\n",
      "Epoch 20/50\n",
      "1123/1123 - 4s - loss: 0.4203 - accuracy: 0.8057 - 4s/epoch - 3ms/step\n",
      "Epoch 21/50\n",
      "1123/1123 - 4s - loss: 0.4174 - accuracy: 0.8082 - 4s/epoch - 3ms/step\n",
      "Epoch 22/50\n",
      "1123/1123 - 4s - loss: 0.4173 - accuracy: 0.8068 - 4s/epoch - 3ms/step\n",
      "Epoch 23/50\n",
      "1123/1123 - 4s - loss: 0.4168 - accuracy: 0.8073 - 4s/epoch - 3ms/step\n",
      "Epoch 24/50\n",
      "1123/1123 - 4s - loss: 0.4152 - accuracy: 0.8101 - 4s/epoch - 3ms/step\n",
      "Epoch 25/50\n",
      "1123/1123 - 4s - loss: 0.4137 - accuracy: 0.8107 - 4s/epoch - 3ms/step\n",
      "Epoch 26/50\n",
      "1123/1123 - 4s - loss: 0.4130 - accuracy: 0.8103 - 4s/epoch - 3ms/step\n",
      "Epoch 27/50\n",
      "1123/1123 - 4s - loss: 0.4108 - accuracy: 0.8099 - 4s/epoch - 3ms/step\n",
      "Epoch 28/50\n",
      "1123/1123 - 4s - loss: 0.4099 - accuracy: 0.8116 - 4s/epoch - 3ms/step\n",
      "Epoch 29/50\n",
      "1123/1123 - 4s - loss: 0.4087 - accuracy: 0.8124 - 4s/epoch - 3ms/step\n",
      "Epoch 30/50\n",
      "1123/1123 - 4s - loss: 0.4083 - accuracy: 0.8119 - 4s/epoch - 3ms/step\n",
      "Epoch 31/50\n",
      "1123/1123 - 4s - loss: 0.4059 - accuracy: 0.8140 - 4s/epoch - 3ms/step\n",
      "Epoch 32/50\n",
      "1123/1123 - 4s - loss: 0.4044 - accuracy: 0.8157 - 4s/epoch - 3ms/step\n",
      "Epoch 33/50\n",
      "1123/1123 - 4s - loss: 0.4052 - accuracy: 0.8132 - 4s/epoch - 3ms/step\n",
      "Epoch 34/50\n",
      "1123/1123 - 4s - loss: 0.4044 - accuracy: 0.8126 - 4s/epoch - 3ms/step\n",
      "Epoch 35/50\n",
      "1123/1123 - 4s - loss: 0.4034 - accuracy: 0.8155 - 4s/epoch - 3ms/step\n",
      "Epoch 36/50\n",
      "1123/1123 - 4s - loss: 0.4033 - accuracy: 0.8132 - 4s/epoch - 3ms/step\n",
      "Epoch 37/50\n",
      "1123/1123 - 4s - loss: 0.4049 - accuracy: 0.8126 - 4s/epoch - 3ms/step\n",
      "Epoch 38/50\n",
      "1123/1123 - 4s - loss: 0.4000 - accuracy: 0.8159 - 4s/epoch - 3ms/step\n",
      "Epoch 39/50\n",
      "1123/1123 - 4s - loss: 0.3984 - accuracy: 0.8181 - 4s/epoch - 3ms/step\n",
      "Epoch 40/50\n",
      "1123/1123 - 4s - loss: 0.3993 - accuracy: 0.8152 - 4s/epoch - 3ms/step\n",
      "Epoch 41/50\n",
      "1123/1123 - 4s - loss: 0.3978 - accuracy: 0.8177 - 4s/epoch - 3ms/step\n",
      "Epoch 42/50\n",
      "1123/1123 - 4s - loss: 0.3980 - accuracy: 0.8164 - 4s/epoch - 3ms/step\n",
      "Epoch 43/50\n",
      "1123/1123 - 4s - loss: 0.3984 - accuracy: 0.8166 - 4s/epoch - 3ms/step\n",
      "Epoch 44/50\n",
      "1123/1123 - 4s - loss: 0.3965 - accuracy: 0.8185 - 4s/epoch - 3ms/step\n",
      "Epoch 45/50\n",
      "1123/1123 - 4s - loss: 0.3953 - accuracy: 0.8191 - 4s/epoch - 3ms/step\n",
      "Epoch 46/50\n",
      "1123/1123 - 4s - loss: 0.3950 - accuracy: 0.8195 - 4s/epoch - 3ms/step\n",
      "Epoch 47/50\n",
      "1123/1123 - 4s - loss: 0.3945 - accuracy: 0.8187 - 4s/epoch - 3ms/step\n",
      "Epoch 48/50\n",
      "1123/1123 - 4s - loss: 0.3915 - accuracy: 0.8208 - 4s/epoch - 3ms/step\n",
      "Epoch 49/50\n",
      "1123/1123 - 4s - loss: 0.3935 - accuracy: 0.8201 - 4s/epoch - 3ms/step\n",
      "Epoch 50/50\n",
      "1123/1123 - 4s - loss: 0.3938 - accuracy: 0.8182 - 4s/epoch - 3ms/step\n"
     ]
    }
   ],
   "source": [
    "CNN_history = modCNN.fit(X_train2, y_train2, epochs=50, batch_size=32, verbose=2)"
   ]
  },
  {
   "cell_type": "code",
   "execution_count": 157,
   "metadata": {},
   "outputs": [
    {
     "name": "stdout",
     "output_type": "stream",
     "text": [
      "281/281 [==============================] - 1s 2ms/step - loss: 0.4660 - accuracy: 0.7788\n",
      "Test accuracy: 0.7787926197052002\n",
      "281/281 [==============================] - 1s 3ms/step\n",
      "classification report:\n",
      "              precision    recall  f1-score   support\n",
      "\n",
      "           0       0.81      0.75      0.78      4753\n",
      "           1       0.74      0.81      0.77      4225\n",
      "\n",
      "    accuracy                           0.78      8978\n",
      "   macro avg       0.78      0.78      0.78      8978\n",
      "weighted avg       0.78      0.78      0.78      8978\n",
      "\n"
     ]
    }
   ],
   "source": [
    "# test accuracy and loss\n",
    "test_loss, test_accuracy = modCNN.evaluate(X_test2, y_test2, verbose=1)\n",
    "print(\"Test accuracy:\", test_accuracy)\n",
    "\n",
    "y_pred = modCNN.predict(X_test2)\n",
    "y_pred = np.round(y_pred).astype(int)\n",
    "print(\"classification report:\")\n",
    "print(classification_report(y_test2, y_pred))"
   ]
  },
  {
   "cell_type": "code",
   "execution_count": 101,
   "metadata": {},
   "outputs": [
    {
     "data": {
      "image/png": "[encoded data removed]",
      "text/plain": [
       "<Figure size 1200x400 with 2 Axes>"
      ]
     },
     "metadata": {},
     "output_type": "display_data"
    }
   ],
   "source": [
    "# Plot the accuracy and loss\n",
    "plt.figure(figsize=(12, 4))\n",
    "\n",
    "# Accuracy subplot\n",
    "plt.subplot(1, 2, 1)\n",
    "plt.plot(CNN_history.history['accuracy'])\n",
    "plt.title('Model Accuracy')\n",
    "plt.ylabel('Accuracy')\n",
    "plt.xlabel('Epoch')\n",
    "plt.legend(['Train'], loc='upper left')\n",
    "\n",
    "# Loss subplot\n",
    "plt.subplot(1, 2, 2)\n",
    "plt.plot(CNN_history.history['loss'])\n",
    "plt.title('Model Loss')\n",
    "plt.ylabel('Loss')\n",
    "plt.xlabel('Epoch')\n",
    "plt.legend(['Train'], loc='upper left')\n",
    "\n",
    "plt.tight_layout()\n",
    "plt.show()"
   ]
  },
  {
   "cell_type": "markdown",
   "metadata": {},
   "source": [
    "# GRU"
   ]
  },
  {
   "cell_type": "code",
   "execution_count": 128,
   "metadata": {},
   "outputs": [
    {
     "name": "stdout",
     "output_type": "stream",
     "text": [
      "Model: \"sequential_22\"\n",
      "_________________________________________________________________\n",
      " Layer (type)                Output Shape              Param #   \n",
      "=================================================================\n",
      " reshape_27 (Reshape)        (None, 100, 1)            0         \n",
      "                                                                 \n",
      " gru_2 (GRU)                 (None, 100, 128)          50304     \n",
      "                                                                 \n",
      " gru_3 (GRU)                 (None, 64)                37248     \n",
      "                                                                 \n",
      " dense_48 (Dense)            (None, 64)                4160      \n",
      "                                                                 \n",
      " dense_49 (Dense)            (None, 1)                 65        \n",
      "                                                                 \n",
      "=================================================================\n",
      "Total params: 91,777\n",
      "Trainable params: 91,777\n",
      "Non-trainable params: 0\n",
      "_________________________________________________________________\n"
     ]
    }
   ],
   "source": [
    "# Define GRU model that can be used with Doc2Vec representations\n",
    "modGRU = keras.Sequential()\n",
    "modGRU.add(keras.layers.Input(shape=(100,)))\n",
    "modGRU.add(keras.layers.Reshape((100, 1)))\n",
    "modGRU.add(keras.layers.GRU(128, return_sequences=True))\n",
    "modGRU.add(keras.layers.GRU(64))\n",
    "modGRU.add(keras.layers.Dense(64, activation='relu'))\n",
    "modGRU.add(keras.layers.Dense(1, activation='sigmoid'))\n",
    "\n",
    "# Compile the model\n",
    "modGRU.compile(optimizer='adam', loss='binary_crossentropy', metrics=['accuracy'])\n",
    "modGRU.summary()"
   ]
  },
  {
   "cell_type": "code",
   "execution_count": 96,
   "metadata": {},
   "outputs": [
    {
     "name": "stdout",
     "output_type": "stream",
     "text": [
      "Epoch 1/10\n"
     ]
    },
    {
     "name": "stdout",
     "output_type": "stream",
     "text": [
      "1123/1123 [==============================] - 57s 49ms/step - loss: 0.4117 - accuracy: 0.8038\n",
      "Epoch 2/10\n",
      "1123/1123 [==============================] - 55s 49ms/step - loss: 0.2168 - accuracy: 0.9132\n",
      "Epoch 3/10\n",
      "1123/1123 [==============================] - 54s 48ms/step - loss: 0.1385 - accuracy: 0.9466\n",
      "Epoch 4/10\n",
      "1123/1123 [==============================] - 55s 49ms/step - loss: 0.1039 - accuracy: 0.9612\n",
      "Epoch 5/10\n",
      "1123/1123 [==============================] - 56s 50ms/step - loss: 0.0798 - accuracy: 0.9704\n",
      "Epoch 6/10\n",
      "1123/1123 [==============================] - 58s 51ms/step - loss: 0.0632 - accuracy: 0.9767\n",
      "Epoch 7/10\n",
      "1123/1123 [==============================] - 56s 50ms/step - loss: 0.0542 - accuracy: 0.9807\n",
      "Epoch 8/10\n",
      "1123/1123 [==============================] - 56s 50ms/step - loss: 0.0480 - accuracy: 0.9824\n",
      "Epoch 9/10\n",
      "1123/1123 [==============================] - 56s 50ms/step - loss: 0.0390 - accuracy: 0.9855\n",
      "Epoch 10/10\n",
      "1123/1123 [==============================] - 56s 50ms/step - loss: 0.0408 - accuracy: 0.9850\n"
     ]
    }
   ],
   "source": [
    "# Train the model\n",
    "GRU_history = modGRU.fit(X_train2, y_train2, epochs=10, batch_size=32, verbose=1)"
   ]
  },
  {
   "cell_type": "code",
   "execution_count": 97,
   "metadata": {},
   "outputs": [
    {
     "name": "stdout",
     "output_type": "stream",
     "text": [
      "281/281 [==============================] - 4s 14ms/step - loss: 0.1085 - accuracy: 0.9628\n",
      "Test accuracy: 0.9627979397773743\n",
      "281/281 [==============================] - 4s 15ms/step\n",
      "classification report:\n",
      "              precision    recall  f1-score   support\n",
      "\n",
      "           0       0.96      0.97      0.97      4753\n",
      "           1       0.97      0.95      0.96      4225\n",
      "\n",
      "    accuracy                           0.96      8978\n",
      "   macro avg       0.96      0.96      0.96      8978\n",
      "weighted avg       0.96      0.96      0.96      8978\n",
      "\n"
     ]
    }
   ],
   "source": [
    "test_loss, test_accuracy = modGRU.evaluate(X_test2, y_test2, verbose=1)\n",
    "print(\"Test accuracy:\", test_accuracy)\n",
    "\n",
    "y_pred = modGRU.predict(X_test2)\n",
    "y_pred = np.round(y_pred).astype(int)\n",
    "print(\"classification report:\")\n",
    "print(classification_report(y_test2, y_pred))"
   ]
  },
  {
   "cell_type": "code",
   "execution_count": 102,
   "metadata": {},
   "outputs": [
    {
     "data": {
      "image/png": "[encoded data removed]",
      "text/plain": [
       "<Figure size 1200x400 with 2 Axes>"
      ]
     },
     "metadata": {},
     "output_type": "display_data"
    }
   ],
   "source": [
    "# Plot the accuracy and loss\n",
    "plt.figure(figsize=(12, 4))\n",
    "\n",
    "# Accuracy subplot\n",
    "plt.subplot(1, 2, 1)\n",
    "plt.plot(GRU_history.history['accuracy'])\n",
    "plt.title('Model Accuracy')\n",
    "plt.ylabel('Accuracy')\n",
    "plt.xlabel('Epoch')\n",
    "plt.legend(['Train'], loc='upper left')\n",
    "\n",
    "# Loss subplot\n",
    "plt.subplot(1, 2, 2)\n",
    "plt.plot(GRU_history.history['loss'])\n",
    "plt.title('Model Loss')\n",
    "plt.ylabel('Loss')\n",
    "plt.xlabel('Epoch')\n",
    "plt.legend(['Train'], loc='upper left')\n",
    "\n",
    "plt.tight_layout()\n",
    "plt.show()"
   ]
  },
  {
   "cell_type": "markdown",
   "metadata": {},
   "source": [
    "# Attention"
   ]
  },
  {
   "cell_type": "code",
   "execution_count": 123,
   "metadata": {},
   "outputs": [
    {
     "name": "stdout",
     "output_type": "stream",
     "text": [
      "Model: \"model_6\"\n",
      "__________________________________________________________________________________________________\n",
      " Layer (type)                   Output Shape         Param #     Connected to                     \n",
      "==================================================================================================\n",
      " input_25 (InputLayer)          [(None, 100)]        0           []                               \n",
      "                                                                                                  \n",
      " input_26 (InputLayer)          [(None, 100)]        0           []                               \n",
      "                                                                                                  \n",
      " reshape_24 (Reshape)           (None, 100, 1)       0           ['input_25[0][0]']               \n",
      "                                                                                                  \n",
      " reshape_25 (Reshape)           (None, 100, 1)       0           ['input_26[0][0]']               \n",
      "                                                                                                  \n",
      " attention_8 (Attention)        (None, 100, 1)       0           ['reshape_24[0][0]',             \n",
      "                                                                  'reshape_25[0][0]']             \n",
      "                                                                                                  \n",
      " flatten_6 (Flatten)            (None, 100)          0           ['attention_8[0][0]']            \n",
      "                                                                                                  \n",
      " dense_44 (Dense)               (None, 64)           6464        ['flatten_6[0][0]']              \n",
      "                                                                                                  \n",
      " dropout_14 (Dropout)           (None, 64)           0           ['dense_44[0][0]']               \n",
      "                                                                                                  \n",
      " dense_45 (Dense)               (None, 1)            65          ['dropout_14[0][0]']             \n",
      "                                                                                                  \n",
      "==================================================================================================\n",
      "Total params: 6,529\n",
      "Trainable params: 6,529\n",
      "Non-trainable params: 0\n",
      "__________________________________________________________________________________________________\n"
     ]
    }
   ],
   "source": [
    "# Define a neural network model using attention that can be used with Doc2Vec representations\n",
    "query_input = Input(shape=(100,))\n",
    "value_input = Input(shape=(100,))\n",
    "\n",
    "query = Reshape((100, 1))(query_input)\n",
    "value = Reshape((100, 1))(value_input)\n",
    "\n",
    "attention_out = Attention()([query, value])\n",
    "attention_out = Flatten()(attention_out)\n",
    "\n",
    "out = Dense(64, activation='relu')(attention_out)\n",
    "out = Dropout(0.5)(out)\n",
    "out = Dense(1, activation='sigmoid')(out)\n",
    "\n",
    "modAttention = keras.Model(inputs=[query_input, value_input], outputs=out)\n",
    "\n",
    "# Compile the model\n",
    "modAttention.compile(optimizer='adam', loss='binary_crossentropy', metrics=['accuracy'])\n",
    "modAttention.summary()\n"
   ]
  },
  {
   "cell_type": "code",
   "execution_count": 124,
   "metadata": {},
   "outputs": [
    {
     "name": "stdout",
     "output_type": "stream",
     "text": [
      "Epoch 1/10\n",
      "1123/1123 [==============================] - 3s 2ms/step - loss: 0.1826 - accuracy: 0.9372\n",
      "Epoch 2/10\n",
      "1123/1123 [==============================] - 3s 2ms/step - loss: 0.0703 - accuracy: 0.9798\n",
      "Epoch 3/10\n",
      "1123/1123 [==============================] - 2s 2ms/step - loss: 0.0518 - accuracy: 0.9851\n",
      "Epoch 4/10\n",
      "1123/1123 [==============================] - 2s 2ms/step - loss: 0.0453 - accuracy: 0.9865\n",
      "Epoch 5/10\n",
      "1123/1123 [==============================] - 2s 2ms/step - loss: 0.0375 - accuracy: 0.9882\n",
      "Epoch 6/10\n",
      "1123/1123 [==============================] - 2s 2ms/step - loss: 0.0344 - accuracy: 0.9893\n",
      "Epoch 7/10\n",
      "1123/1123 [==============================] - 2s 2ms/step - loss: 0.0305 - accuracy: 0.9905\n",
      "Epoch 8/10\n",
      "1123/1123 [==============================] - 2s 2ms/step - loss: 0.0295 - accuracy: 0.9903\n",
      "Epoch 9/10\n",
      "1123/1123 [==============================] - 2s 2ms/step - loss: 0.0281 - accuracy: 0.9910\n",
      "Epoch 10/10\n",
      "1123/1123 [==============================] - 2s 2ms/step - loss: 0.0247 - accuracy: 0.9922\n"
     ]
    }
   ],
   "source": [
    "# To train the model we need to pass both the query and value inputs as the input to the model which is X_train2 twice\n",
    "Att_history = modAttention.fit([X_train2, X_train2], y_train2, epochs=10, batch_size=32, verbose=1)"
   ]
  },
  {
   "cell_type": "code",
   "execution_count": 125,
   "metadata": {},
   "outputs": [
    {
     "name": "stdout",
     "output_type": "stream",
     "text": [
      "281/281 [==============================] - 1s 2ms/step - loss: 0.0693 - accuracy: 0.9846\n",
      "Test accuracy: 0.9846290946006775\n",
      "281/281 [==============================] - 1s 2ms/step\n",
      "classification report:\n",
      "              precision    recall  f1-score   support\n",
      "\n",
      "           0       0.98      0.99      0.99      4753\n",
      "           1       0.99      0.98      0.98      4225\n",
      "\n",
      "    accuracy                           0.98      8978\n",
      "   macro avg       0.99      0.98      0.98      8978\n",
      "weighted avg       0.98      0.98      0.98      8978\n",
      "\n"
     ]
    }
   ],
   "source": [
    "test_loss, test_accuracy = modAttention.evaluate([X_test2, X_test2], y_test2, verbose=1)\n",
    "print(\"Test accuracy:\", test_accuracy)\n",
    "\n",
    "y_pred = modAttention.predict([X_test2, X_test2])\n",
    "y_pred = np.round(y_pred).astype(int)\n",
    "print(\"classification report:\")\n",
    "print(classification_report(y_test2, y_pred))"
   ]
  },
  {
   "cell_type": "code",
   "execution_count": 126,
   "metadata": {},
   "outputs": [
    {
     "data": {
      "image/png": "[encoded data removed]",
      "text/plain": [
       "<Figure size 1200x400 with 2 Axes>"
      ]
     },
     "metadata": {},
     "output_type": "display_data"
    }
   ],
   "source": [
    "# Plot the accuracy and loss\n",
    "plt.figure(figsize=(12, 4))\n",
    "\n",
    "# Accuracy subplot\n",
    "plt.subplot(1, 2, 1)\n",
    "plt.plot(Att_history.history['accuracy'])\n",
    "plt.title('Model Accuracy')\n",
    "plt.ylabel('Accuracy')\n",
    "plt.xlabel('Epoch')\n",
    "plt.legend(['Train'], loc='upper left')\n",
    "\n",
    "# Loss subplot\n",
    "plt.subplot(1, 2, 2)\n",
    "plt.plot(Att_history.history['loss'])\n",
    "plt.title('Model Loss')\n",
    "plt.ylabel('Loss')\n",
    "plt.xlabel('Epoch')\n",
    "plt.legend(['Train'], loc='upper left')\n",
    "\n",
    "plt.tight_layout()\n",
    "plt.show()"
   ]
  },
  {
   "cell_type": "markdown",
   "metadata": {},
   "source": [
    "# Bi LSTM with CNN"
   ]
  },
  {
   "cell_type": "code",
   "execution_count": 127,
   "metadata": {},
   "outputs": [
    {
     "name": "stdout",
     "output_type": "stream",
     "text": [
      "Model: \"sequential_21\"\n",
      "_________________________________________________________________\n",
      " Layer (type)                Output Shape              Param #   \n",
      "=================================================================\n",
      " reshape_26 (Reshape)        (None, 100, 1)            0         \n",
      "                                                                 \n",
      " conv1d_13 (Conv1D)          (None, 96, 128)           768       \n",
      "                                                                 \n",
      " max_pooling1d_4 (MaxPooling  (None, 24, 128)          0         \n",
      " 1D)                                                             \n",
      "                                                                 \n",
      " bidirectional_12 (Bidirecti  (None, 24, 256)          263168    \n",
      " onal)                                                           \n",
      "                                                                 \n",
      " bidirectional_13 (Bidirecti  (None, 128)              164352    \n",
      " onal)                                                           \n",
      "                                                                 \n",
      " dense_46 (Dense)            (None, 64)                8256      \n",
      "                                                                 \n",
      " dropout_15 (Dropout)        (None, 64)                0         \n",
      "                                                                 \n",
      " dense_47 (Dense)            (None, 1)                 65        \n",
      "                                                                 \n",
      "=================================================================\n",
      "Total params: 436,609\n",
      "Trainable params: 436,609\n",
      "Non-trainable params: 0\n",
      "_________________________________________________________________\n"
     ]
    }
   ],
   "source": [
    "# Define a hybrid neural network model of Bi-LSTM and CNN-text with droupout regulization technique that can be used with Doc2Vec representations\n",
    "modBILSTMCNN = keras.Sequential()\n",
    "modBILSTMCNN.add(keras.layers.Input(shape=(100,)))\n",
    "modBILSTMCNN.add(keras.layers.Reshape((100, 1)))\n",
    "modBILSTMCNN.add(keras.layers.Conv1D(128, 5, activation='relu'))\n",
    "modBILSTMCNN.add(keras.layers.MaxPooling1D(pool_size=4))\n",
    "modBILSTMCNN.add(keras.layers.Bidirectional(keras.layers.LSTM(128, return_sequences=True)))\n",
    "modBILSTMCNN.add(keras.layers.Bidirectional(keras.layers.LSTM(64)))\n",
    "modBILSTMCNN.add(keras.layers.Dense(64, activation='relu'))\n",
    "modBILSTMCNN.add(keras.layers.Dropout(0.5))\n",
    "modBILSTMCNN.add(keras.layers.Dense(1, activation='sigmoid'))\n",
    "\n",
    "# Compile the model\n",
    "modBILSTMCNN.compile(optimizer='adam', loss='binary_crossentropy', metrics=['accuracy'])\n",
    "modBILSTMCNN.summary()"
   ]
  },
  {
   "cell_type": "code",
   "execution_count": 86,
   "metadata": {},
   "outputs": [
    {
     "name": "stdout",
     "output_type": "stream",
     "text": [
      "Epoch 1/10\n"
     ]
    },
    {
     "name": "stdout",
     "output_type": "stream",
     "text": [
      "1123/1123 [==============================] - 39s 31ms/step - loss: 0.1942 - accuracy: 0.9148\n",
      "Epoch 2/10\n",
      "1123/1123 [==============================] - 32s 28ms/step - loss: 0.0766 - accuracy: 0.9715\n",
      "Epoch 3/10\n",
      "1123/1123 [==============================] - 34s 30ms/step - loss: 0.0599 - accuracy: 0.9784\n",
      "Epoch 4/10\n",
      "1123/1123 [==============================] - 34s 31ms/step - loss: 0.0496 - accuracy: 0.9823\n",
      "Epoch 5/10\n",
      "1123/1123 [==============================] - 37s 33ms/step - loss: 0.0430 - accuracy: 0.9850\n",
      "Epoch 6/10\n",
      "1123/1123 [==============================] - 40s 35ms/step - loss: 0.0363 - accuracy: 0.9873\n",
      "Epoch 7/10\n",
      "1123/1123 [==============================] - 40s 35ms/step - loss: 0.0319 - accuracy: 0.9885\n",
      "Epoch 8/10\n",
      "1123/1123 [==============================] - 37s 33ms/step - loss: 0.0285 - accuracy: 0.9898\n",
      "Epoch 9/10\n",
      "1123/1123 [==============================] - 37s 33ms/step - loss: 0.0256 - accuracy: 0.9909\n",
      "Epoch 10/10\n",
      "1123/1123 [==============================] - 36s 32ms/step - loss: 0.0231 - accuracy: 0.9914\n"
     ]
    }
   ],
   "source": [
    "BiLstmCnn = modBILSTMCNN.fit(X_train2, y_train2, epochs=10, batch_size=32, verbose=1)"
   ]
  },
  {
   "cell_type": "code",
   "execution_count": 87,
   "metadata": {},
   "outputs": [
    {
     "name": "stdout",
     "output_type": "stream",
     "text": [
      "281/281 [==============================] - 3s 9ms/step - loss: 0.0906 - accuracy: 0.9771\n",
      "Test accuracy: 0.977055013179779\n",
      "281/281 [==============================] - 3s 9ms/step\n",
      "classification report:\n",
      "              precision    recall  f1-score   support\n",
      "\n",
      "           0       0.98      0.98      0.98      4753\n",
      "           1       0.98      0.98      0.98      4225\n",
      "\n",
      "    accuracy                           0.98      8978\n",
      "   macro avg       0.98      0.98      0.98      8978\n",
      "weighted avg       0.98      0.98      0.98      8978\n",
      "\n"
     ]
    }
   ],
   "source": [
    "test_loss, test_accuracy = modBILSTMCNN.evaluate(X_test2, y_test2, verbose=1)\n",
    "print(\"Test accuracy:\", test_accuracy)\n",
    "\n",
    "y_pred = modBILSTMCNN.predict(X_test2)\n",
    "y_pred = np.round(y_pred).astype(int)\n",
    "print(\"classification report:\")\n",
    "print(classification_report(y_test2, y_pred))"
   ]
  },
  {
   "cell_type": "code",
   "execution_count": 103,
   "metadata": {},
   "outputs": [
    {
     "data": {
      "image/png": "[encoded data removed]",
      "text/plain": [
       "<Figure size 1200x400 with 2 Axes>"
      ]
     },
     "metadata": {},
     "output_type": "display_data"
    }
   ],
   "source": [
    "# Plot the accuracy and loss\n",
    "plt.figure(figsize=(12, 4))\n",
    "\n",
    "# Accuracy subplot\n",
    "plt.subplot(1, 2, 1)\n",
    "plt.plot(BiLstmCnn.history['accuracy'])\n",
    "plt.title('Model Accuracy')\n",
    "plt.ylabel('Accuracy')\n",
    "plt.xlabel('Epoch')\n",
    "plt.legend(['Train'], loc='upper left')\n",
    "\n",
    "# Loss subplot\n",
    "plt.subplot(1, 2, 2)\n",
    "plt.plot(BiLstmCnn.history['loss'])\n",
    "plt.title('Model Loss')\n",
    "plt.ylabel('Loss')\n",
    "plt.xlabel('Epoch')\n",
    "plt.legend(['Train'], loc='upper left')\n",
    "\n",
    "plt.tight_layout()\n",
    "plt.show()"
   ]
  },
  {
   "cell_type": "markdown",
   "metadata": {},
   "source": [
    "# Bi LSTM with Attention"
   ]
  },
  {
   "cell_type": "code",
   "execution_count": 89,
   "metadata": {},
   "outputs": [
    {
     "name": "stdout",
     "output_type": "stream",
     "text": [
      "Model: \"model_1\"\n",
      "__________________________________________________________________________________________________\n",
      " Layer (type)                   Output Shape         Param #     Connected to                     \n",
      "==================================================================================================\n",
      " input_14 (InputLayer)          [(None, 100)]        0           []                               \n",
      "                                                                                                  \n",
      " reshape_13 (Reshape)           (None, 100, 1)       0           ['input_14[0][0]']               \n",
      "                                                                                                  \n",
      " bidirectional_8 (Bidirectional  (None, 100, 256)    133120      ['reshape_13[0][0]']             \n",
      " )                                                                                                \n",
      "                                                                                                  \n",
      " bidirectional_9 (Bidirectional  (None, 100, 128)    164352      ['bidirectional_8[0][0]']        \n",
      " )                                                                                                \n",
      "                                                                                                  \n",
      " dense_30 (Dense)               (None, 100, 256)     33024       ['bidirectional_9[0][0]']        \n",
      "                                                                                                  \n",
      " attention_1 (Attention)        (None, 100, 256)     0           ['bidirectional_8[0][0]',        \n",
      "                                                                  'dense_30[0][0]']               \n",
      "                                                                                                  \n",
      " flatten_1 (Flatten)            (None, 25600)        0           ['attention_1[0][0]']            \n",
      "                                                                                                  \n",
      " dense_31 (Dense)               (None, 64)           1638464     ['flatten_1[0][0]']              \n",
      "                                                                                                  \n",
      " dense_32 (Dense)               (None, 1)            65          ['dense_31[0][0]']               \n",
      "                                                                                                  \n",
      "==================================================================================================\n",
      "Total params: 1,969,025\n",
      "Trainable params: 1,969,025\n",
      "Non-trainable params: 0\n",
      "__________________________________________________________________________________________________\n"
     ]
    }
   ],
   "source": [
    "input_layer = keras.layers.Input(shape=(100,))\n",
    "\n",
    "# Reshape the input to match the expected shape of the LSTM layer\n",
    "input_reshaped = keras.layers.Reshape((100, 1))(input_layer)\n",
    "\n",
    "# Create the Bidirectional LSTM layers\n",
    "lstm1 = keras.layers.Bidirectional(keras.layers.LSTM(128, return_sequences=True))(input_reshaped) \n",
    "lstm2 = keras.layers.Bidirectional(keras.layers.LSTM(64, return_sequences=True))(lstm1)\n",
    "\n",
    "# Project the output of the second LSTM layer to match the dimension of the first LSTM layer\n",
    "lstm2_projected = keras.layers.Dense(256)(lstm2)\n",
    "\n",
    "# Create the Attention layer\n",
    "# Use the output of the first LSTM layer as the query tensor\n",
    "# Use the projected output of the second LSTM layer as the value tensor\n",
    "attention = keras.layers.Attention()([lstm1, lstm2_projected])\n",
    "\n",
    "# Flatten the output of the Attention layer\n",
    "attention_flattened = keras.layers.Flatten()(attention)\n",
    "\n",
    "# Create the Dense layers\n",
    "dense1 = keras.layers.Dense(64, activation='relu')(attention_flattened) \n",
    "dense2 = keras.layers.Dense(1, activation='sigmoid')(dense1)\n",
    "\n",
    "# Create the model\n",
    "modBiA = keras.Model(inputs=input_layer, outputs=dense2)\n",
    "\n",
    "# Compile the model\n",
    "modBiA.compile(optimizer='adam', loss='binary_crossentropy', metrics=['accuracy'])\n",
    "modBiA.summary()"
   ]
  },
  {
   "cell_type": "code",
   "execution_count": 90,
   "metadata": {},
   "outputs": [
    {
     "name": "stdout",
     "output_type": "stream",
     "text": [
      "Epoch 1/3\n"
     ]
    },
    {
     "name": "stdout",
     "output_type": "stream",
     "text": [
      "1123/1123 [==============================] - 136s 118ms/step - loss: 0.1038 - accuracy: 0.9513\n",
      "Epoch 2/3\n",
      "1123/1123 [==============================] - 136s 121ms/step - loss: 0.0295 - accuracy: 0.9896\n",
      "Epoch 3/3\n",
      "1123/1123 [==============================] - 137s 122ms/step - loss: 0.0251 - accuracy: 0.9915\n"
     ]
    }
   ],
   "source": [
    "# Train the model\n",
    "BAH = modBiA.fit(X_train2, y_train2, epochs=3, batch_size=32, verbose=1)"
   ]
  },
  {
   "cell_type": "code",
   "execution_count": 91,
   "metadata": {},
   "outputs": [
    {
     "name": "stdout",
     "output_type": "stream",
     "text": [
      "281/281 [==============================] - 12s 41ms/step - loss: 0.0487 - accuracy: 0.9867\n",
      "Test accuracy: 0.9867453575134277\n",
      "281/281 [==============================] - 12s 39ms/step\n",
      "classification report:\n",
      "              precision    recall  f1-score   support\n",
      "\n",
      "           0       0.99      0.99      0.99      4753\n",
      "           1       0.99      0.98      0.99      4225\n",
      "\n",
      "    accuracy                           0.99      8978\n",
      "   macro avg       0.99      0.99      0.99      8978\n",
      "weighted avg       0.99      0.99      0.99      8978\n",
      "\n"
     ]
    }
   ],
   "source": [
    "test_loss, test_accuracy = modBiA.evaluate(X_test2, y_test2, verbose=1)\n",
    "print(\"Test accuracy:\", test_accuracy)\n",
    "\n",
    "y_pred = modBiA.predict(X_test2)\n",
    "y_pred = np.round(y_pred).astype(int)\n",
    "print(\"classification report:\")\n",
    "print(classification_report(y_test2, y_pred))"
   ]
  },
  {
   "cell_type": "code",
   "execution_count": 104,
   "metadata": {},
   "outputs": [
    {
     "data": {
      "image/png": "[encoded data removed]",
      "text/plain": [
       "<Figure size 1200x400 with 2 Axes>"
      ]
     },
     "metadata": {},
     "output_type": "display_data"
    }
   ],
   "source": [
    "# Plot the accuracy and loss\n",
    "plt.figure(figsize=(12, 4))\n",
    "\n",
    "# Accuracy subplot\n",
    "plt.subplot(1, 2, 1)\n",
    "plt.plot(BAH.history['accuracy'])\n",
    "plt.title('Model Accuracy')\n",
    "plt.ylabel('Accuracy')\n",
    "plt.xlabel('Epoch')\n",
    "plt.legend(['Train'], loc='upper left')\n",
    "\n",
    "# Loss subplot\n",
    "plt.subplot(1, 2, 2)\n",
    "plt.plot(BAH.history['loss'])\n",
    "plt.title('Model Loss')\n",
    "plt.ylabel('Loss')\n",
    "plt.xlabel('Epoch')\n",
    "plt.legend(['Train'], loc='upper left')\n",
    "\n",
    "plt.tight_layout()\n",
    "plt.show()"
   ]
  },
  {
   "cell_type": "markdown",
   "metadata": {},
   "source": [
    "# CNN-Text droupout Bi-LSTM with and Attention"
   ]
  },
  {
   "cell_type": "code",
   "execution_count": 92,
   "metadata": {},
   "outputs": [
    {
     "name": "stdout",
     "output_type": "stream",
     "text": [
      "Model: \"model_2\"\n",
      "__________________________________________________________________________________________________\n",
      " Layer (type)                   Output Shape         Param #     Connected to                     \n",
      "==================================================================================================\n",
      " input_15 (InputLayer)          [(None, 100)]        0           []                               \n",
      "                                                                                                  \n",
      " reshape_14 (Reshape)           (None, 100, 1)       0           ['input_15[0][0]']               \n",
      "                                                                                                  \n",
      " conv1d_12 (Conv1D)             (None, 96, 128)      768         ['reshape_14[0][0]']             \n",
      "                                                                                                  \n",
      " max_pooling1d_3 (MaxPooling1D)  (None, 24, 128)     0           ['conv1d_12[0][0]']              \n",
      "                                                                                                  \n",
      " bidirectional_10 (Bidirectiona  (None, 24, 256)     263168      ['max_pooling1d_3[0][0]']        \n",
      " l)                                                                                               \n",
      "                                                                                                  \n",
      " bidirectional_11 (Bidirectiona  (None, 24, 128)     164352      ['bidirectional_10[0][0]']       \n",
      " l)                                                                                               \n",
      "                                                                                                  \n",
      " dense_33 (Dense)               (None, 24, 256)      33024       ['bidirectional_11[0][0]']       \n",
      "                                                                                                  \n",
      " attention_2 (Attention)        (None, 24, 256)      0           ['bidirectional_10[0][0]',       \n",
      "                                                                  'dense_33[0][0]']               \n",
      "                                                                                                  \n",
      " flatten_2 (Flatten)            (None, 6144)         0           ['attention_2[0][0]']            \n",
      "                                                                                                  \n",
      " dense_34 (Dense)               (None, 64)           393280      ['flatten_2[0][0]']              \n",
      "                                                                                                  \n",
      " dropout_12 (Dropout)           (None, 64)           0           ['dense_34[0][0]']               \n",
      "                                                                                                  \n",
      " dense_35 (Dense)               (None, 1)            65          ['dropout_12[0][0]']             \n",
      "                                                                                                  \n",
      "==================================================================================================\n",
      "Total params: 854,657\n",
      "Trainable params: 854,657\n",
      "Non-trainable params: 0\n",
      "__________________________________________________________________________________________________\n"
     ]
    }
   ],
   "source": [
    "# CNN-Text Bi-LSTM with Attention and droupout\n",
    "input_layer = keras.layers.Input(shape=(100,))\n",
    "input_reshaped = keras.layers.Reshape((100, 1))(input_layer)\n",
    "conv1 = keras.layers.Conv1D(128, 5, activation='relu')(input_reshaped)\n",
    "maxpool1 = keras.layers.MaxPooling1D(pool_size=4)(conv1)\n",
    "lstm1 = keras.layers.Bidirectional(keras.layers.LSTM(128, return_sequences=True))(maxpool1)\n",
    "lstm2 = keras.layers.Bidirectional(keras.layers.LSTM(64, return_sequences=True))(lstm1)\n",
    "lstm2_projected = keras.layers.Dense(256)(lstm2)\n",
    "attention = keras.layers.Attention()([lstm1, lstm2_projected])\n",
    "attention_flattened = keras.layers.Flatten()(attention)\n",
    "dense1 = keras.layers.Dense(64, activation='relu')(attention_flattened)\n",
    "dropout = keras.layers.Dropout(0.5)(dense1)\n",
    "dense2 = keras.layers.Dense(1, activation='sigmoid')(dropout)\n",
    "modBiCNA = keras.Model(inputs=input_layer, outputs=dense2)\n",
    "modBiCNA.compile(optimizer='adam', loss='binary_crossentropy', metrics=['accuracy'])\n",
    "modBiCNA.summary()"
   ]
  },
  {
   "cell_type": "code",
   "execution_count": 93,
   "metadata": {},
   "outputs": [
    {
     "name": "stdout",
     "output_type": "stream",
     "text": [
      "Epoch 1/10\n"
     ]
    },
    {
     "name": "stdout",
     "output_type": "stream",
     "text": [
      "1123/1123 [==============================] - 41s 33ms/step - loss: 0.2695 - accuracy: 0.8829\n",
      "Epoch 2/10\n",
      "1123/1123 [==============================] - 37s 33ms/step - loss: 0.1018 - accuracy: 0.9633\n",
      "Epoch 3/10\n",
      "1123/1123 [==============================] - 43s 38ms/step - loss: 0.0713 - accuracy: 0.9753\n",
      "Epoch 4/10\n",
      "1123/1123 [==============================] - 41s 37ms/step - loss: 0.0551 - accuracy: 0.9818\n",
      "Epoch 5/10\n",
      "1123/1123 [==============================] - 41s 37ms/step - loss: 0.0476 - accuracy: 0.9832\n",
      "Epoch 6/10\n",
      "1123/1123 [==============================] - 40s 36ms/step - loss: 0.0387 - accuracy: 0.9863\n",
      "Epoch 7/10\n",
      "1123/1123 [==============================] - 41s 37ms/step - loss: 0.0363 - accuracy: 0.9883\n",
      "Epoch 8/10\n",
      "1123/1123 [==============================] - 40s 35ms/step - loss: 0.0315 - accuracy: 0.9886\n",
      "Epoch 9/10\n",
      "1123/1123 [==============================] - 40s 36ms/step - loss: 0.0297 - accuracy: 0.9894\n",
      "Epoch 10/10\n",
      "1123/1123 [==============================] - 41s 36ms/step - loss: 0.0260 - accuracy: 0.9909\n"
     ]
    }
   ],
   "source": [
    "BiCNNa_history = modBiCNA.fit(X_train2, y_train2, epochs=10, batch_size=32, verbose=1)"
   ]
  },
  {
   "cell_type": "code",
   "execution_count": 94,
   "metadata": {},
   "outputs": [
    {
     "name": "stdout",
     "output_type": "stream",
     "text": [
      "281/281 [==============================] - 4s 11ms/step - loss: 0.0791 - accuracy: 0.9766\n",
      "Test accuracy: 0.976609468460083\n",
      "281/281 [==============================] - 4s 11ms/step\n",
      "classification report:\n",
      "              precision    recall  f1-score   support\n",
      "\n",
      "           0       0.97      0.98      0.98      4753\n",
      "           1       0.98      0.97      0.98      4225\n",
      "\n",
      "    accuracy                           0.98      8978\n",
      "   macro avg       0.98      0.98      0.98      8978\n",
      "weighted avg       0.98      0.98      0.98      8978\n",
      "\n"
     ]
    }
   ],
   "source": [
    "test_loss, test_accuracy = modBiCNA.evaluate(X_test2, y_test2, verbose=1)\n",
    "print(\"Test accuracy:\", test_accuracy)\n",
    "\n",
    "y_pred = modBiCNA.predict(X_test2)\n",
    "y_pred = np.round(y_pred).astype(int)\n",
    "print(\"classification report:\")\n",
    "print(classification_report(y_test2, y_pred))"
   ]
  },
  {
   "cell_type": "code",
   "execution_count": 105,
   "metadata": {},
   "outputs": [
    {
     "data": {
      "image/png": "[encoded data removed]",
      "text/plain": [
       "<Figure size 1200x400 with 2 Axes>"
      ]
     },
     "metadata": {},
     "output_type": "display_data"
    }
   ],
   "source": [
    "# Plot the accuracy and loss\n",
    "plt.figure(figsize=(12, 4))\n",
    "\n",
    "# Accuracy subplot\n",
    "plt.subplot(1, 2, 1)\n",
    "plt.plot(BiCNNa_history.history['accuracy'])\n",
    "plt.title('Model Accuracy')\n",
    "plt.ylabel('Accuracy')\n",
    "plt.xlabel('Epoch')\n",
    "plt.legend(['Train'], loc='upper left')\n",
    "\n",
    "# Loss subplot\n",
    "plt.subplot(1, 2, 2)\n",
    "plt.plot(BiCNNa_history.history['loss'])\n",
    "plt.title('Model Loss')\n",
    "plt.ylabel('Loss')\n",
    "plt.xlabel('Epoch')\n",
    "plt.legend(['Train'], loc='upper left')\n",
    "\n",
    "plt.tight_layout()\n",
    "plt.show()"
   ]
  },
  {
   "cell_type": "code",
   "execution_count": 129,
   "metadata": {},
   "outputs": [],
   "source": [
    "# Save all the models\n",
    "modLSTM.save('models/LSTM.h5')\n",
    "modBiLSTM.save('models/BiLSTM.h5')\n",
    "modCNN.save('models/CNN.h5')\n",
    "modGRU.save('models/GRU.h5')\n",
    "modAttention.save('models/Attention.h5')\n",
    "modBILSTMCNN.save('models/BiLSTMCNN.h5')\n",
    "modBiA.save('models/BiA.h5')\n",
    "modBiCNA.save('models/BiCNNa.h5')"
   ]
  },
  {
   "cell_type": "code",
   "execution_count": 152,
   "metadata": {},
   "outputs": [
    {
     "name": "stdout",
     "output_type": "stream",
     "text": [
      "1/1 [==============================] - 0s 21ms/step\n",
      "True\n"
     ]
    }
   ],
   "source": [
    "# manual testing\n",
    "test = \"majority germans want merkel s conservatives fdp greens form govtberlin reuters half germans 57 percent want three way coalition chancellor angela merkel conservatives pro business free democrats fdp greens govern country forsa survey stern magazine showed wednesday merkel conservatives emerged sept 24 national election biggest party need partner partners form government jamaica coalition conservatives fdp greens called black yellow green colors match jamaican flag untested national level shaping likely option social democrats spd junior partners merkel ruling coalition last four years want go opposition suffering worst result since 1933 26 percent germans wanted continuation grand coalition conservatives spd survey 1 003 people conducted sept 28 29 showed\"\n",
    "# test = \"susan rice refuses testify senateyou wont believe reason why susan rice announced testify senate russian hacking senator lyndsey graham said disappointed said deal later gave flimsy excuse testifying via lawyer rice considered invitation diversionary play distract attention investigation russian election interference including contacts trump allies russians campaign source said that ridiculous could really want testify oath ya think according cnn barack obama national security adviser turned request sen lindsey graham participate hearing senator whitehouse informed us letter see below agree chairman graham invitation ambassador rice significant departure bipartisan invitations extended witnesses rice lawyer kathryn ruemmler wrote letter graham circumstances ambassador rice respectfully declines senator graham invitation testify rice administration official made dozens requests seeking unmask identities trump associates said national security reasons politically motivated read more daily callerthe letter rice lawyer dear chairman graham ranking member whitehouse i write behalf client ambassador susan e rice response senator graham invitation ambassador rice testify may 8 2017 hearing senate committee judiciary subcommittee crime terrorism entitled russian interference 2016 united states election ambassador rice commends subcommittee efforts examine matter extraordinary national significance extremely rare congress request testimony former senior advisor president given longstanding well recognized separation powers concerns issue moreover chairman graham invitation extended hearing noticed less two weeks hearing scheduled occur without consultation ambassador rice professional courtesy would customarily extended witness notwithstanding significance concerns ambassador rice prepared assist congressional inquiries russian election interference important national interests stake provided conducted bipartisan manner appropriate classified session in case however senator whitehouse informed us letter agree chairman graham invitation ambassador rice significant departure bipartisan invitations extended witnesses circumstances ambassador rice respectfully declines senator graham invitation testify again ambassador rice stated publicly supports committed assisting bipartisan congressional inquiries russian interference 2016 election given utmost importance matter national security please contact questions sincerely kathryn h ruemmler latham watkins llpsusan rice lied numerous times years could forget benghazi rice went 5 morning shows lied cause attack\"\n",
    "# test = \"u s citizen run busting bali prisondenpasar indonesia reuters indonesian police hunting u s citizen escaped monday overcrowded prison holiday island bali cutting steel bars ceiling jail second breakout foreign inmates year kerobokan prison 10 km six miles main tourist beaches kuta area often holds foreigners facing drug related charges cristian beasley suspect crimes related narcotics sentenced escaped 4 10 a m 2010 gmt sunday said badung police chief yudith satria hananta thought prisoner escaped cutting steel bars ceiling said statement without giving details beasley escaped without detected beasley 32 california believed used rope climb wall getting perimeter wall area refurbished police questioned witnesses guards hunting beasley hananta said another american paul anthony hoffman 57 captured also trying escape hananta said representatives beasley hoffman could immediately reached comment june australian bulgarian indian malaysian tunneled freedom 12 meters 13 yards prison walls indian bulgarian caught soon neighboring east timor australian shaun edward davidson malaysian tee kok king remain large davidson taunted authorities saying enjoying life various parts world purported posts facebook kerobokan housed number well known foreign drug convicts including australian schappelle corby whose 12 1 2 year sentence marijuana smuggling got huge media attention indonesia executed several foreign drug convicts recent years indonesian prisons often overcrowded partly war drugs led government president joko widodo led surge number people locked up june kerobokan housed 1 378 inmates four times planned capacity 323 government data show prison escapes fairly common indonesia launched investigation year 350 inmates broke prison island sumatra \"\n",
    "# test = \"federal judge questions trumps legitimacy attack fellow judge halting muslim banthe judicial branch government getting sick tired donald trump tirades after trump signed unconstitutional executive order banning travelers seven countries entering united states worldwide chaos ensued thousands people detained denied rights attorneys raced rescue federal judge blocked order trump attacking u s district court judge james robart ever since the opinion so called judge essentially takes law enforcement away country ridiculous overturned donald j trump realdonaldtrump february 4 2017what country coming judge halt homeland security travel ban anyone even bad intentions come u s donald j trump realdonaldtrump february 4 2017because ban lifted judge many bad dangerous people may pouring country terrible decision donald j trump realdonaldtrump february 4 2017the judge opens country potential terrorists others best interests heart bad people happy donald j trump realdonaldtrump february 5 2017just cannot believe judge would put country peril something happens blame court system people pouring in bad donald j trump realdonaldtrump february 5 2017if u s win case obviously should never security safety entitled politics donald j trump realdonaldtrump february 8 2017trump literally whining judge robarts decision week acts like judges allowed act check balance executive branch and behavior toward robarts angered one federal judge much calling trump legitimacy question yuuuge deal federal district judge dan polster explained cleveland anti defamation league wednesday explained checks balances exist founding fathers fearful president might want king dictator exactly trump acting polster continued telling audience think federal judge intimidated trump took oath support defend constitution means lot think oath means even today said polster believes trump undermined legitimacy attacking judicial branch halting executive order serious business start calling question legitimacy someone undermines whole system right think say publicly right calls question might even say forfeits legitimacy leave that important question feel call question legitimacy federal district court judge line crossed it trump attacks judicial branch literally starting backfire judges start speak publicly him trump right disagree judges personally attacking disgraces office holds diminishes power executive branch makes trump position look weak desperate could affect decisions judges make future executive orders laws trump signs short trying bully judges good idea read more featured image via andrew harrer pool getty images\"\n",
    "# test = \"white house says negotiations continuing border wall fundingwashington reuters negotiations white house congressional leaders spending measure keep u s government running beyond week continuing president donald trump still seeking border wall military funding white house said monday asked trump insisting funding planned border wall current spending measure white house spokesman sean spicer said money military border security wall priority president would take table yet \"\n",
    "test = preprocess_text(test)\n",
    "test = test.split()\n",
    "test = model.infer_vector(test)\n",
    "test = np.array(test).reshape(1, -1)\n",
    "# test for model\n",
    "test = modBiLSTM.predict(test)\n",
    "# it is 2D list so,\n",
    "print(test[0][0]>.5)"
   ]
  },
  {
   "cell_type": "code",
   "execution_count": null,
   "metadata": {},
   "outputs": [],
   "source": []
  }
 ],
 "metadata": {
  "kernelspec": {
   "display_name": "Python 3",
   "language": "python",
   "name": "python3"
  },
  "language_info": {
   "codemirror_mode": {
    "name": "ipython",
    "version": 3
   },
   "file_extension": ".py",
   "mimetype": "text/x-python",
   "name": "python",
   "nbconvert_exporter": "python",
   "pygments_lexer": "ipython3",
   "version": "3.10.0"
  }
 },
 "nbformat": 4,
 "nbformat_minor": 2
}
